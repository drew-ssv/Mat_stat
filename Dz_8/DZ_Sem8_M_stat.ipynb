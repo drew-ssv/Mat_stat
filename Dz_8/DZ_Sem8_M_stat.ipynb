{
  "nbformat": 4,
  "nbformat_minor": 0,
  "metadata": {
    "colab": {
      "provenance": []
    },
    "kernelspec": {
      "name": "python3",
      "display_name": "Python 3"
    },
    "language_info": {
      "name": "python"
    }
  },
  "cells": [
    {
      "cell_type": "markdown",
      "source": [
        "DZ_8_Корреляционный анализ"
      ],
      "metadata": {
        "id": "6R1Szna3L1ol"
      }
    },
    {
      "cell_type": "code",
      "source": [
        "import numpy as np\n",
        "import pandas as pd\n",
        "import scipy.stats as stats"
      ],
      "metadata": {
        "id": "eDQE6Cc3Lxlc"
      },
      "execution_count": null,
      "outputs": []
    },
    {
      "cell_type": "markdown",
      "source": [
        "###1. Даны значения величины заработной платы заемщиков банка (zp) и значения их поведенческого кредитного скоринга (ks):\n",
        "zp = [35, 45, 190, 200, 40, 70, 54, 150, 120, 110], ks = [401, 574, 874, 919, 459, 739, 653, 902, 746, 832].\n",
        "###Найдите ковариацию этих двух величин с помощью элементарных действий, а затем с помощью функции cov из numpy Полученные значения должны быть равны.\n",
        "###Найдите коэффициент корреляции Пирсона с помощью ковариации и среднеквадратичных отклонений двух признаков, а затем с использованием функций из библиотек numpy и pandas."
      ],
      "metadata": {
        "id": "Ny6zaUlfLlin"
      }
    },
    {
      "cell_type": "code",
      "execution_count": null,
      "metadata": {
        "colab": {
          "base_uri": "https://localhost:8080/"
        },
        "id": "ts43bVwRLj0P",
        "outputId": "92175860-8511-4586-fc65-e41e16de9996"
      },
      "outputs": [
        {
          "output_type": "stream",
          "name": "stdout",
          "text": [
            "Коэффициент корреляции Пирсона = 0.8875 при ковирации = 9157.84\n",
            "Средн. зарплатное значение = 101.4, средн. скоринговое значение  =  709.9\n"
          ]
        }
      ],
      "source": [
        "x_zp =  np.array([35, 45, 190, 200, 40, 70, 54, 150, 120, 110])\n",
        "y_ks =  np.array([401, 574, 874, 919, 459, 739, 653, 902, 746, 832])\n",
        "#Найдем нужные данные для использования их в формуле: cov = [XY]avg - [X]avg * [Y]avg\n",
        "x_zp_avg = sum(x_zp) /len(x_zp) # расчет среднего массива\n",
        "y_ks_avg = y_ks.mean() # через функцию mean\n",
        "xy_avg = (x_zp * y_ks).mean() #среднее значение суммированных значений массивов\n",
        "\n",
        "\n",
        "cov_xy = xy_avg - x_zp_avg * y_ks_avg\n",
        "# Коэффициент корреляции Пирсона расчитаем по формуле: corr_P(xy) = cov_xy / (std_X * std_Y)\n",
        "# Рассчитаем среднеквадратичные отклонения массивов\n",
        "std_x_zp, std_y_ks = x_zp.std (), y_ks.std () #так как выборки = ген совокупности, не используем смещение (степени свободы ddof = 1)\n",
        "corr_P_xy = cov_xy / (std_x_zp * std_y_ks)\n",
        "diff = np.mean(zp - ks)\n",
        "print (f'Коэффициент корреляции Пирсона = {round(corr_P_xy, 4)} при ковирации = {round(cov_xy, 4)}')\n",
        "print (f'Средн. зарплатное значение = {x_zp_avg}, средн. скоринговое значение  =  {y_ks_avg}')"
      ]
    },
    {
      "cell_type": "code",
      "source": [
        "print (f'Коэффициент корреляции Пирсона из базы данных = {np.corrcoef(x_zp, y_ks, dtype=np.float64)} \\n при ковирации = {np.cov(x_zp, y_ks, ddof=0)}')\n",
        "import seaborn as sns\n",
        "import matplotlib.pyplot as plt\n",
        "df = pd.DataFrame(data = {'зарплатное значение': x_zp, 'скоринговое значение': y_ks})\n",
        "# taking all rows but only\n",
        "df_small = df.iloc[:,:6] #rows - / columns 6\n",
        "correlation_mat = df_small.corr()\n",
        "sns.heatmap(correlation_mat, annot = True)\n",
        "plt.show()"
      ],
      "metadata": {
        "colab": {
          "base_uri": "https://localhost:8080/",
          "height": 504
        },
        "id": "pBUgVhYNoDnB",
        "outputId": "cd81b228-eced-439e-e6a0-84792df72d97"
      },
      "execution_count": 90,
      "outputs": [
        {
          "output_type": "stream",
          "name": "stdout",
          "text": [
            "Коэффициент корреляции Пирсона из базы данных = [[1.         0.88749009]\n",
            " [0.88749009 1.        ]] \n",
            " при ковирации = [[ 3494.64  9157.84]\n",
            " [ 9157.84 30468.89]]\n"
          ]
        },
        {
          "output_type": "display_data",
          "data": {
            "text/plain": [
              "<Figure size 640x480 with 2 Axes>"
            ],
            "image/png": "[encoded data removed]"
          },
          "metadata": {}
        }
      ]
    },
    {
      "cell_type": "markdown",
      "source": [
        "###2. Измерены значения IQ выборки студентов, обучающихся в местных технических вузах:\n",
        "[131, 125, 115, 122, 131, 115, 107, 99, 125, 111].\n",
        "###Известно, что в генеральной совокупности IQ распределен нормально. Найдите доверительный интервал для математического ожидания с надежностью 0.95."
      ],
      "metadata": {
        "id": "t5hNE42uL7LD"
      }
    },
    {
      "cell_type": "code",
      "source": [
        "x_data = np.array([131, 125, 115, 122, 131, 115, 107, 99, 125, 111])\n",
        "X̅ = x_data.mean() # X̅ Среднее выборочное\n",
        "α, β = 0.05, 1 - α\n",
        "n = len(x_data) # длина массива len(x_data) = n выборки\n",
        "df = n - 1  # это не генеральная совокупность, а выборка, поэтому степень свободы = n выборки -1\n",
        "std = x_data.std (ddof = 1) # std среднее квадратическое отклонение\n",
        "t_critich = stats.t.ppf(α, df)   # в случае, когда std неизвестно, выборка менее 30, используется t-распределение\n",
        "res1 = X̅ - t_critich * std / np.sqrt(n) #найдем 2 значения т.к.это интервал слева и справа от X̅\n",
        "res2 = X̅ + t_critich * std / np.sqrt(n)\n",
        "print (f'Ответ: Доверительный интервал для математического ожидания IQ студентов с надежностью: {β} =  [{round(res2, 4)} ; {round(res1, 4)}]')\n",
        "print (f'критерий t табличный = {t_critich}')"
      ],
      "metadata": {
        "colab": {
          "base_uri": "https://localhost:8080/"
        },
        "id": "_12EN3WbL-Fb",
        "outputId": "e69b5c98-70f6-480d-b65b-7384dc07b23f"
      },
      "execution_count": null,
      "outputs": [
        {
          "output_type": "stream",
          "name": "stdout",
          "text": [
            "Ответ: Доверительный интервал для математического ожидания IQ студентов с надежностью: 0.95 =  [111.9869 ; 124.2131]\n",
            "критерий t табличный = -1.8331129326536337\n"
          ]
        }
      ]
    },
    {
      "cell_type": "markdown",
      "source": [
        "###3. Известно, что рост футболистов в сборной распределен нормально с дисперсией генеральной совокупности, равной 25 кв.см. Объем выборки равен 27, среднее выборочное составляет 174.2. Найдите доверительный интервал для математического ожидания с надежностью 0.95."
      ],
      "metadata": {
        "id": "yKdxBCbjL-01"
      }
    },
    {
      "cell_type": "markdown",
      "source": [
        "Запись данных: X̅ = 174.2; α = (1-0.95)/2 = 0.025 так как тест двухсторонний; n = 27; D = 25 кв.см"
      ],
      "metadata": {
        "id": "jCQo_d44WDBe"
      }
    },
    {
      "cell_type": "code",
      "source": [
        "X̅, n, D = 174.2, 27 , 25\n",
        "std = D **(1/2)\n",
        "α, β = (1-β)/2 , 0.95  # =0.025 так как тест двухсторонний\n",
        "#n = len(x_data) # длина массива len(x_data) = n выборки\n",
        "df = n - 1  # это не генеральная совокупность, а выборка, поэтому степень свободы = n выборки -1\n",
        "#std = x_data.std (ddof = 1) # std среднее квадратическое отклонение\n",
        "t_critich = stats.t.ppf(α, df)   # в случае, когда std неизвестно, выборка менее 30, используется t-распределение\n",
        "\n",
        "res1 = X̅ - t_critich * std / np.sqrt(n) #найдем 2 значения т.к.это интервал слева и справа от X̅\n",
        "res2 = X̅ + t_critich * std / np.sqrt(n)\n",
        "\n",
        "print (f'Ответ: Доверительный интервал для математического ожидания роста футболистов с надежностью: {β} =  [{round(res2, 4)} ; {round(res1, 4)}]')\n",
        "print (f'критерий t табличный = {t_critich}')"
      ],
      "metadata": {
        "colab": {
          "base_uri": "https://localhost:8080/"
        },
        "id": "VY6Clyu2MCf1",
        "outputId": "243ce1b3-7399-48da-aa74-c6ee7cbd7461"
      },
      "execution_count": null,
      "outputs": [
        {
          "output_type": "stream",
          "name": "stdout",
          "text": [
            "Ответ: Доверительный интервал для математического ожидания роста футболистов с надежностью: 0.95 =  [172.2221 ; 176.1779]\n",
            "критерий t табличный = -2.055529438642871\n"
          ]
        }
      ]
    }
  ]
}