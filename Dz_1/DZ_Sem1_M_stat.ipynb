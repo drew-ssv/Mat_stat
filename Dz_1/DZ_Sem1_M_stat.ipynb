{
  "nbformat": 4,
  "nbformat_minor": 0,
  "metadata": {
    "colab": {
      "provenance": []
    },
    "kernelspec": {
      "name": "python3",
      "display_name": "Python 3"
    },
    "language_info": {
      "name": "python"
    }
  },
  "cells": [
    {
      "cell_type": "code",
      "execution_count": 1,
      "metadata": {
        "id": "MGfbTvHIfvXa"
      },
      "outputs": [],
      "source": [
        "import pandas as pd"
      ]
    },
    {
      "cell_type": "code",
      "source": [
        "import math"
      ],
      "metadata": {
        "id": "KwORpW1ygV-_"
      },
      "execution_count": 2,
      "outputs": []
    },
    {
      "cell_type": "code",
      "source": [
        "def fact(n):\n",
        "    fact = n\n",
        "    for i in range (1, n):\n",
        "        fact = fact * i\n",
        "    return fact"
      ],
      "metadata": {
        "id": "L6lOmtm5gal4"
      },
      "execution_count": 3,
      "outputs": []
    },
    {
      "cell_type": "code",
      "source": [
        "#perestanovka - комбинации из n элементов, отличающиеся их порядком. Т.о. здесь важен порядок и участвуют все элементы.\n",
        "def perestanovka (n):\n",
        "    return math.factorial (n)\n",
        "print (f'test znacheniya perestanovka = {perestanovka (3)}')"
      ],
      "metadata": {
        "colab": {
          "base_uri": "https://localhost:8080/"
        },
        "id": "NNa2iGg2gbwt",
        "outputId": "8344f749-5b12-4e80-855b-9ac1c8208082"
      },
      "execution_count": 5,
      "outputs": [
        {
          "output_type": "stream",
          "name": "stdout",
          "text": [
            "test znacheniya perestanovka = 6\n"
          ]
        }
      ]
    },
    {
      "cell_type": "code",
      "source": [
        "#sochetanie – это набор, состоящий из k  элементов, выбранных  из множества, содержащего n  различных элементов.\n",
        "#В сочетаниях неважен порядок. Например, когда вы играете в карты, у вашего соперника 6 карт.\n",
        "#Вас не интересует, в какой последовательности он их держит, а вас интересует только их содержание: какие масти, есть ли тузы и т.д.\n",
        "def sochetanie (n,k):\n",
        "    return int(fact (n) // (fact (k) * fact (n - k)))\n",
        "print (f'test znacheniya sochetanie = {sochetanie (10, 6)}')"
      ],
      "metadata": {
        "colab": {
          "base_uri": "https://localhost:8080/"
        },
        "id": "t9v__Kyug_Xb",
        "outputId": "0a28308a-d0ce-4d02-ba3b-f96440766924"
      },
      "execution_count": 6,
      "outputs": [
        {
          "output_type": "stream",
          "name": "stdout",
          "text": [
            "test znacheniya sochetanie = 210\n"
          ]
        }
      ]
    },
    {
      "cell_type": "code",
      "source": [
        "#razmeshenie -  это набор k элементов, выбранных из множества n, которые отличаются либо самими элементами, либо порядком их расположения.\n",
        "#Здесь участвуют не все элементы и важен порядок.\n",
        "def razmeshenie (n,k):\n",
        "    return int(fact (n) // fact (n - k))\n",
        "print (f'test znacheniya razmeshenie = {razmeshenie (10, 6)}')"
      ],
      "metadata": {
        "colab": {
          "base_uri": "https://localhost:8080/"
        },
        "id": "HS6ANNJEhI25",
        "outputId": "f05abeef-737d-44e3-f3e6-73fc2317b45e"
      },
      "execution_count": 8,
      "outputs": [
        {
          "output_type": "stream",
          "name": "stdout",
          "text": [
            "test znacheniya razmeshenie = 151200\n"
          ]
        }
      ]
    },
    {
      "cell_type": "markdown",
      "source": [
        "## Урок 1. Расчет вероятности случайных событий\n",
        "### Задача 1. Из колоды в 52 карты извлекаются случайным образом 4 карты\n",
        "       a) Найти вероятность того, что все карты – крести."
      ],
      "metadata": {
        "id": "jzJzvIzMhkjJ"
      }
    },
    {
      "cell_type": "code",
      "source": [
        "# W = k/n\n",
        "# W = вероятность события — это отношение:\n",
        "# k = числа элементарных исходов, благоприятствующих данному событию, к\n",
        "# n= числу всех равновозможных исходов опыта, в котором оно может появиться.\n",
        "\n",
        "k = sochetanie (13,4) # благоприятный исход  4 карты из 13 крести\n",
        "n = sochetanie (52,4) # все варианты 4 карты из 52 карт\n",
        "W = k / n\n",
        "print (f'Вероятность того, что все карты – крести: {round(W*100,3)}%')"
      ],
      "metadata": {
        "colab": {
          "base_uri": "https://localhost:8080/"
        },
        "id": "hyyJSu6RhWGK",
        "outputId": "3d2d89cd-2ea7-4b70-cd57-618af87d691f"
      },
      "execution_count": 11,
      "outputs": [
        {
          "output_type": "stream",
          "name": "stdout",
          "text": [
            "Вероятность того, что все карты – крести: 0.264%\n"
          ]
        }
      ]
    },
    {
      "cell_type": "markdown",
      "source": [
        "\n",
        "       б) Найти вероятность, что среди 4-х карт окажется хотя бы один туз."
      ],
      "metadata": {
        "id": "IAWUN9pTiNNB"
      }
    },
    {
      "cell_type": "code",
      "source": [
        "# Ответ = 1 - 'вероятность не вытащить туза'\n",
        "k = sochetanie (48,4) # благоприятный исход  4 карты из 13 крести\n",
        "n = sochetanie (52,4) # все варианты 4 карты из 52 карт\n",
        "W1 = 1 - k / n\n",
        "print (f'Вероятность того, что среди 4-х карт окажется хотя бы один туз: {round(W1*100,2)}%')"
      ],
      "metadata": {
        "colab": {
          "base_uri": "https://localhost:8080/"
        },
        "id": "_poNA4hFiWXC",
        "outputId": "04305111-5a6e-4d11-e0af-cc4c69273b75"
      },
      "execution_count": 19,
      "outputs": [
        {
          "output_type": "stream",
          "name": "stdout",
          "text": [
            "Вероятность того, что среди 4-х карт окажется хотя бы один туз: 28.13%\n"
          ]
        }
      ]
    },
    {
      "cell_type": "markdown",
      "source": [
        "### Задача 2. На входной двери подъезда установлен кодовый замок, содержащий десять кнопок с цифрами от 0 до 9. Код содержит три цифры, которые нужно нажать одновременно.\n",
        "Какова вероятность того, что человек, не знающий код, откроет дверь с первой попытки?"
      ],
      "metadata": {
        "id": "nLJKEBERksRR"
      }
    },
    {
      "cell_type": "code",
      "source": [
        "# Решение исключить = 1/10 (задействована 1 цифра из 10) * 1/9 (задействована 1 цифра из 10-1 выбранная) * 1/8 (задействована 1 цифра из 10-2 выбранных)\n",
        "W2 = 1/10 * 1/9 * 1/8\n",
        "print (f'Вероятность того, что человек, не знающий код, откроет дверь с первой попытки: {round(W2*100,2)}%')"
      ],
      "metadata": {
        "colab": {
          "base_uri": "https://localhost:8080/"
        },
        "id": "2mHv6fEskz5Q",
        "outputId": "43d5d479-25e6-4091-ebc9-b13f1584e8d2"
      },
      "execution_count": 23,
      "outputs": [
        {
          "output_type": "stream",
          "name": "stdout",
          "text": [
            "Вероятность того, что человек, не знающий код, откроет дверь с первой попытки: 0.14%\n"
          ]
        }
      ]
    },
    {
      "cell_type": "markdown",
      "source": [
        "### Задача 3. В ящике имеется 15 деталей, из которых 9 окрашены. Рабочий случайным образом извлекает 3 детали.\n",
        "Какова вероятность того, что все извлеченные детали окрашены?"
      ],
      "metadata": {
        "id": "UB6H6OVSolhf"
      }
    },
    {
      "cell_type": "code",
      "source": [
        "# k = число элементарных исходов, благоприятствующих данному событию\n",
        "# n= число всех равновозможных исходов опыта, в котором оно может появиться\n",
        "\n",
        "k = sochetanie (9,3) # благоприятный исход  3 карты из 9 окрашенных деталей\n",
        "n = sochetanie (15,3) # все варианты 3 карты из 15 деталей\n",
        "W3 = k / n\n",
        "print (f'Вероятность того, что все извлеченные детали окрашены: {round(W3*100,2)}%')"
      ],
      "metadata": {
        "colab": {
          "base_uri": "https://localhost:8080/"
        },
        "id": "WEX1LbUyot45",
        "outputId": "26e0f3d9-0689-4a2b-fe22-92365f16581d"
      },
      "execution_count": 24,
      "outputs": [
        {
          "output_type": "stream",
          "name": "stdout",
          "text": [
            "Вероятность того, что все извлеченные детали окрашены: 18.46%\n"
          ]
        }
      ]
    },
    {
      "cell_type": "markdown",
      "source": [
        "### Задача 4. В лотерее 100 билетов. Из них 2 выигрышных.\n",
        "Какова вероятность того, что 2 приобретенных билета окажутся выигрышными?"
      ],
      "metadata": {
        "id": "7m44h_Fwoucl"
      }
    },
    {
      "cell_type": "code",
      "source": [
        "# k = число элементарных исходов, благоприятствующих данному событию\n",
        "# n= число всех равновозможных исходов опыта, в котором оно может появиться\n",
        "\n",
        "k = sochetanie (2,1) # благоприятный исход для 1 билета\n",
        "k = 1/2 * k # благоприятный исход одновременно для 2 билетов\n",
        "n = sochetanie (100,2) # все варианты\n",
        "W4 = k / n\n",
        "print (f'Вероятность того, что 2 приобретенных билета окажутся выигрышными: {round(W4*100,2)}%')"
      ],
      "metadata": {
        "colab": {
          "base_uri": "https://localhost:8080/"
        },
        "id": "KfYIvoSCrIIW",
        "outputId": "5f1a172c-b6a2-446b-c88a-0b0ef301bec7"
      },
      "execution_count": 38,
      "outputs": [
        {
          "output_type": "stream",
          "name": "stdout",
          "text": [
            "Вероятность того, что 2 приобретенных билета окажутся выигрышными: 0.02%\n"
          ]
        }
      ]
    }
  ]
}