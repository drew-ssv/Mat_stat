{
  "nbformat": 4,
  "nbformat_minor": 0,
  "metadata": {
    "colab": {
      "provenance": []
    },
    "kernelspec": {
      "name": "python3",
      "display_name": "Python 3"
    },
    "language_info": {
      "name": "python"
    }
  },
  "cells": [
    {
      "cell_type": "markdown",
      "source": [
        "DZ_10_Дисперсионный анализ"
      ],
      "metadata": {
        "id": "eD6WP6KNPzXe"
      }
    },
    {
      "cell_type": "code",
      "source": [
        "import numpy as np\n",
        "import pandas as pd\n",
        "import scipy.stats as stats\n",
        "import matplotlib as math\n",
        "import matplotlib.pyplot as plt\n",
        "import seaborn as sns"
      ],
      "metadata": {
        "id": "mExag99j4cH1"
      },
      "execution_count": null,
      "outputs": []
    },
    {
      "cell_type": "markdown",
      "source": [
        "###1. Задача: провести дисперсионный анализ для определения того, есть ли различия среднего роста среди взрослых футболистов, хоккеистов и штангистов. Даны значения роста в трех группах случайно выбранных спортсменов:\n",
        "Футболисты: [173, 175, 180, 178, 177, 185, 183, 182]. \\\n",
        "Хоккеисты: [177, 179, 180, 188, 177, 172, 171, 184, 180]. \\\n",
        "Штангисты: [172, 173, 169, 177, 166, 180, 178, 177, 172, 166, 170]."
      ],
      "metadata": {
        "id": "peq5YR7QPyCJ"
      }
    },
    {
      "cell_type": "markdown",
      "source": [
        "Запись гипотез: \\\n",
        "**H0** = µ(ftbl_heights) =  µ(hck_heights) = µ(pwr_heights) \\\n",
        "**H1** = µ(ftbl_heights) !=  µ(hck_heights) & | != µ(pwr_heights)"
      ],
      "metadata": {
        "id": "msvavJpl6bXs"
      }
    },
    {
      "cell_type": "code",
      "execution_count": null,
      "metadata": {
        "id": "0v6OkQ-6PxLa"
      },
      "outputs": [],
      "source": [
        "ftbl_heights = np.array([173, 175, 180, 178, 177, 185, 183, 182]) # футболисты\n",
        "n_ftbl = len(ftbl_heights)\n",
        "ftbl_mean = ftbl_heights.mean()\n",
        "hck_heights = np.array([177, 179, 180, 188, 177, 172, 171, 184, 180]) # хоккеисты\n",
        "n_hck = len(hck_heights)\n",
        "hck_mean = hck_heights.mean()\n",
        "pwr_heights = np.array([172, 173, 169, 177, 166, 180, 178, 177, 172, 166, 170]) # штангисты\n",
        "n_pwr = len(pwr_heights)\n",
        "pwr_mean = pwr_heights.mean()"
      ]
    },
    {
      "cell_type": "code",
      "source": [
        "# проведем тест\n",
        "α = 0.05\n",
        "stats.kruskal(ftbl_heights, hck_heights, pwr_heights) #используем критерий Крускала-Уоллиса – критерий, используемый для сравнения 3-ех и более независимых выборок по количественному или порядковому признаку \\\n",
        "# когда нарушается предположение о нормальности и нужно узнать о наличии статистически значимой разницы между медианами групп."
      ],
      "metadata": {
        "colab": {
          "base_uri": "https://localhost:8080/"
        },
        "id": "rinJXedKD_uo",
        "outputId": "62dabfa4-d257-4da3-99cd-83f8e2e01f71"
      },
      "execution_count": null,
      "outputs": [
        {
          "output_type": "execute_result",
          "data": {
            "text/plain": [
              "KruskalResult(statistic=7.897493213863828, pvalue=0.01927885061595347)"
            ]
          },
          "metadata": {},
          "execution_count": 8
        }
      ]
    },
    {
      "cell_type": "markdown",
      "source": [
        "При α = 0.05, pvalue 0.0193 < α, отвергаем H0 - и переходим к H1 -  группы с ростом спортсменов  статистически различны"
      ],
      "metadata": {
        "id": "6m6pwGWdDEnZ"
      }
    },
    {
      "cell_type": "code",
      "source": [
        "#посмотрим, как это выглядит на графике, исползуем boxplot\n",
        "plt.figure(figsize=(10, 6))\n",
        "sns.set_palette(['orange', 'green'])\n",
        "plt.boxplot([ftbl_heights, hck_heights, pwr_heights], labels = ['Футболисты', 'Хоккеисты', 'Штангисты'], patch_artist = True)\n",
        "plt.title('Различия среднего роста среди спортсменов')\n",
        "plt.ylabel('Рост (см)')\n",
        "plt.grid(True)\n",
        "plt.show()"
      ],
      "metadata": {
        "colab": {
          "base_uri": "https://localhost:8080/",
          "height": 545
        },
        "id": "Y_TJsLEmDFak",
        "outputId": "43f8c394-3a43-48b1-82bd-205608d4c90c"
      },
      "execution_count": null,
      "outputs": [
        {
          "output_type": "display_data",
          "data": {
            "text/plain": [
              "<Figure size 1000x600 with 1 Axes>"
            ],
            "image/png": "[encoded data removed]"
          },
          "metadata": {}
        }
      ]
    },
    {
      "cell_type": "markdown",
      "source": [
        "визуально видим разницу между ростами групп, \\\n",
        "проведем еще один тест - используем встроенный тест-анализ однофакторной дисперсии:"
      ],
      "metadata": {
        "id": "0I2b5iluEYu-"
      }
    },
    {
      "cell_type": "code",
      "source": [
        "stats.f_oneway(ftbl_heights, hck_heights, pwr_heights)"
      ],
      "metadata": {
        "colab": {
          "base_uri": "https://localhost:8080/"
        },
        "id": "0PSo4TMm8Lzz",
        "outputId": "af671098-0438-406f-f18c-b542a8ce64ff"
      },
      "execution_count": null,
      "outputs": [
        {
          "output_type": "execute_result",
          "data": {
            "text/plain": [
              "F_onewayResult(statistic=5.500053450812596, pvalue=0.010482206918698694)"
            ]
          },
          "metadata": {},
          "execution_count": 26
        }
      ]
    },
    {
      "cell_type": "markdown",
      "source": [
        "**При α = 0.05, pvalue 0.0105 > α, отвергаем H0 - и переходим к H1 - видим по второму тесту еще раз, что группы с ростом спортсменов статистически различны**"
      ],
      "metadata": {
        "id": "VJDsi5QtE_PK"
      }
    },
    {
      "cell_type": "markdown",
      "source": [
        "###2. Дисперсионный анализ не показывает,  между какими именно средними были найдены различия. Выясним, между какими именно группами найдены статистически значимые различия, воспользуемся post hoc тестом Тьюки."
      ],
      "metadata": {
        "id": "68ON8e6cFk4L"
      }
    },
    {
      "cell_type": "markdown",
      "source": [
        "2.1. Так как размеры выборки не равны, попробуем брать несколько \"неполных измерений\""
      ],
      "metadata": {
        "id": "2XUennDoHQeZ"
      }
    },
    {
      "cell_type": "code",
      "source": [
        "#создадим таблицу ростов, данные в группах приведем к виду серий, добавим тип данных\n",
        "ftbl_height = pd.Series([173, 175, 180, 178, 177, 185, 183, 182], name = 'Футболисты', dtype = pd.Int64Dtype())\n",
        "hck_height = pd.Series([177, 179, 180, 188, 177, 172, 171, 184, 180], name = 'Хоккеисты', dtype = pd.Int64Dtype())\n",
        "pwr_height = pd.Series([172, 173, 169, 177, 166, 180, 178, 177, 172, 166, 170], name = 'Штангисты', dtype = pd.Int64Dtype())\n",
        "df = pd.concat([ftbl_height, hck_height, pwr_height], keys = ['Футболисты', 'Хоккеисты', 'Штангисты'], ignore_index = False, axis = 1)\n",
        "df.index = np.arange(1, len(df) + 1) # нумерация c  '1', а не с '0' индекса\n",
        "df"
      ],
      "metadata": {
        "colab": {
          "base_uri": "https://localhost:8080/",
          "height": 394
        },
        "id": "ju66JVKScSgr",
        "outputId": "374326ac-8776-4c62-d01c-1923ae3515c2"
      },
      "execution_count": 101,
      "outputs": [
        {
          "output_type": "execute_result",
          "data": {
            "text/plain": [
              "    Футболисты  Хоккеисты  Штангисты\n",
              "1          173        177        172\n",
              "2          175        179        173\n",
              "3          180        180        169\n",
              "4          178        188        177\n",
              "5          177        177        166\n",
              "6          185        172        180\n",
              "7          183        171        178\n",
              "8          182        184        177\n",
              "9         <NA>        180        172\n",
              "10        <NA>       <NA>        166\n",
              "11        <NA>       <NA>        170"
            ],
            "text/html": [
              "\n",
              "  <div id=\"df-9b3318d0-e627-4035-ac2a-3ea30332b00b\" class=\"colab-df-container\">\n",
              "    <div>\n",
              "<style scoped>\n",
              "    .dataframe tbody tr th:only-of-type {\n",
              "        vertical-align: middle;\n",
              "    }\n",
              "\n",
              "    .dataframe tbody tr th {\n",
              "        vertical-align: top;\n",
              "    }\n",
              "\n",
              "    .dataframe thead th {\n",
              "        text-align: right;\n",
              "    }\n",
              "</style>\n",
              "<table border=\"1\" class=\"dataframe\">\n",
              "  <thead>\n",
              "    <tr style=\"text-align: right;\">\n",
              "      <th></th>\n",
              "      <th>Футболисты</th>\n",
              "      <th>Хоккеисты</th>\n",
              "      <th>Штангисты</th>\n",
              "    </tr>\n",
              "  </thead>\n",
              "  <tbody>\n",
              "    <tr>\n",
              "      <th>1</th>\n",
              "      <td>173</td>\n",
              "      <td>177</td>\n",
              "      <td>172</td>\n",
              "    </tr>\n",
              "    <tr>\n",
              "      <th>2</th>\n",
              "      <td>175</td>\n",
              "      <td>179</td>\n",
              "      <td>173</td>\n",
              "    </tr>\n",
              "    <tr>\n",
              "      <th>3</th>\n",
              "      <td>180</td>\n",
              "      <td>180</td>\n",
              "      <td>169</td>\n",
              "    </tr>\n",
              "    <tr>\n",
              "      <th>4</th>\n",
              "      <td>178</td>\n",
              "      <td>188</td>\n",
              "      <td>177</td>\n",
              "    </tr>\n",
              "    <tr>\n",
              "      <th>5</th>\n",
              "      <td>177</td>\n",
              "      <td>177</td>\n",
              "      <td>166</td>\n",
              "    </tr>\n",
              "    <tr>\n",
              "      <th>6</th>\n",
              "      <td>185</td>\n",
              "      <td>172</td>\n",
              "      <td>180</td>\n",
              "    </tr>\n",
              "    <tr>\n",
              "      <th>7</th>\n",
              "      <td>183</td>\n",
              "      <td>171</td>\n",
              "      <td>178</td>\n",
              "    </tr>\n",
              "    <tr>\n",
              "      <th>8</th>\n",
              "      <td>182</td>\n",
              "      <td>184</td>\n",
              "      <td>177</td>\n",
              "    </tr>\n",
              "    <tr>\n",
              "      <th>9</th>\n",
              "      <td>&lt;NA&gt;</td>\n",
              "      <td>180</td>\n",
              "      <td>172</td>\n",
              "    </tr>\n",
              "    <tr>\n",
              "      <th>10</th>\n",
              "      <td>&lt;NA&gt;</td>\n",
              "      <td>&lt;NA&gt;</td>\n",
              "      <td>166</td>\n",
              "    </tr>\n",
              "    <tr>\n",
              "      <th>11</th>\n",
              "      <td>&lt;NA&gt;</td>\n",
              "      <td>&lt;NA&gt;</td>\n",
              "      <td>170</td>\n",
              "    </tr>\n",
              "  </tbody>\n",
              "</table>\n",
              "</div>\n",
              "    <div class=\"colab-df-buttons\">\n",
              "\n",
              "  <div class=\"colab-df-container\">\n",
              "    <button class=\"colab-df-convert\" onclick=\"convertToInteractive('df-9b3318d0-e627-4035-ac2a-3ea30332b00b')\"\n",
              "            title=\"Convert this dataframe to an interactive table.\"\n",
              "            style=\"display:none;\">\n",
              "\n",
              "  <svg xmlns=\"http://www.w3.org/2000/svg\" height=\"24px\" viewBox=\"0 -960 960 960\">\n",
              "    <path d=\"M120-120v-720h720v720H120Zm60-500h600v-160H180v160Zm220 220h160v-160H400v160Zm0 220h160v-160H400v160ZM180-400h160v-160H180v160Zm440 0h160v-160H620v160ZM180-180h160v-160H180v160Zm440 0h160v-160H620v160Z\"/>\n",
              "  </svg>\n",
              "    </button>\n",
              "\n",
              "  <style>\n",
              "    .colab-df-container {\n",
              "      display:flex;\n",
              "      gap: 12px;\n",
              "    }\n",
              "\n",
              "    .colab-df-convert {\n",
              "      background-color: #E8F0FE;\n",
              "      border: none;\n",
              "      border-radius: 50%;\n",
              "      cursor: pointer;\n",
              "      display: none;\n",
              "      fill: #1967D2;\n",
              "      height: 32px;\n",
              "      padding: 0 0 0 0;\n",
              "      width: 32px;\n",
              "    }\n",
              "\n",
              "    .colab-df-convert:hover {\n",
              "      background-color: #E2EBFA;\n",
              "      box-shadow: 0px 1px 2px rgba(60, 64, 67, 0.3), 0px 1px 3px 1px rgba(60, 64, 67, 0.15);\n",
              "      fill: #174EA6;\n",
              "    }\n",
              "\n",
              "    .colab-df-buttons div {\n",
              "      margin-bottom: 4px;\n",
              "    }\n",
              "\n",
              "    [theme=dark] .colab-df-convert {\n",
              "      background-color: #3B4455;\n",
              "      fill: #D2E3FC;\n",
              "    }\n",
              "\n",
              "    [theme=dark] .colab-df-convert:hover {\n",
              "      background-color: #434B5C;\n",
              "      box-shadow: 0px 1px 3px 1px rgba(0, 0, 0, 0.15);\n",
              "      filter: drop-shadow(0px 1px 2px rgba(0, 0, 0, 0.3));\n",
              "      fill: #FFFFFF;\n",
              "    }\n",
              "  </style>\n",
              "\n",
              "    <script>\n",
              "      const buttonEl =\n",
              "        document.querySelector('#df-9b3318d0-e627-4035-ac2a-3ea30332b00b button.colab-df-convert');\n",
              "      buttonEl.style.display =\n",
              "        google.colab.kernel.accessAllowed ? 'block' : 'none';\n",
              "\n",
              "      async function convertToInteractive(key) {\n",
              "        const element = document.querySelector('#df-9b3318d0-e627-4035-ac2a-3ea30332b00b');\n",
              "        const dataTable =\n",
              "          await google.colab.kernel.invokeFunction('convertToInteractive',\n",
              "                                                    [key], {});\n",
              "        if (!dataTable) return;\n",
              "\n",
              "        const docLinkHtml = 'Like what you see? Visit the ' +\n",
              "          '<a target=\"_blank\" href=https://colab.research.google.com/notebooks/data_table.ipynb>data table notebook</a>'\n",
              "          + ' to learn more about interactive tables.';\n",
              "        element.innerHTML = '';\n",
              "        dataTable['output_type'] = 'display_data';\n",
              "        await google.colab.output.renderOutput(dataTable, element);\n",
              "        const docLink = document.createElement('div');\n",
              "        docLink.innerHTML = docLinkHtml;\n",
              "        element.appendChild(docLink);\n",
              "      }\n",
              "    </script>\n",
              "  </div>\n",
              "\n",
              "\n",
              "<div id=\"df-52792bee-0628-47e1-937a-36a15967a11c\">\n",
              "  <button class=\"colab-df-quickchart\" onclick=\"quickchart('df-52792bee-0628-47e1-937a-36a15967a11c')\"\n",
              "            title=\"Suggest charts\"\n",
              "            style=\"display:none;\">\n",
              "\n",
              "<svg xmlns=\"http://www.w3.org/2000/svg\" height=\"24px\"viewBox=\"0 0 24 24\"\n",
              "     width=\"24px\">\n",
              "    <g>\n",
              "        <path d=\"M19 3H5c-1.1 0-2 .9-2 2v14c0 1.1.9 2 2 2h14c1.1 0 2-.9 2-2V5c0-1.1-.9-2-2-2zM9 17H7v-7h2v7zm4 0h-2V7h2v10zm4 0h-2v-4h2v4z\"/>\n",
              "    </g>\n",
              "</svg>\n",
              "  </button>\n",
              "\n",
              "<style>\n",
              "  .colab-df-quickchart {\n",
              "      --bg-color: #E8F0FE;\n",
              "      --fill-color: #1967D2;\n",
              "      --hover-bg-color: #E2EBFA;\n",
              "      --hover-fill-color: #174EA6;\n",
              "      --disabled-fill-color: #AAA;\n",
              "      --disabled-bg-color: #DDD;\n",
              "  }\n",
              "\n",
              "  [theme=dark] .colab-df-quickchart {\n",
              "      --bg-color: #3B4455;\n",
              "      --fill-color: #D2E3FC;\n",
              "      --hover-bg-color: #434B5C;\n",
              "      --hover-fill-color: #FFFFFF;\n",
              "      --disabled-bg-color: #3B4455;\n",
              "      --disabled-fill-color: #666;\n",
              "  }\n",
              "\n",
              "  .colab-df-quickchart {\n",
              "    background-color: var(--bg-color);\n",
              "    border: none;\n",
              "    border-radius: 50%;\n",
              "    cursor: pointer;\n",
              "    display: none;\n",
              "    fill: var(--fill-color);\n",
              "    height: 32px;\n",
              "    padding: 0;\n",
              "    width: 32px;\n",
              "  }\n",
              "\n",
              "  .colab-df-quickchart:hover {\n",
              "    background-color: var(--hover-bg-color);\n",
              "    box-shadow: 0 1px 2px rgba(60, 64, 67, 0.3), 0 1px 3px 1px rgba(60, 64, 67, 0.15);\n",
              "    fill: var(--button-hover-fill-color);\n",
              "  }\n",
              "\n",
              "  .colab-df-quickchart-complete:disabled,\n",
              "  .colab-df-quickchart-complete:disabled:hover {\n",
              "    background-color: var(--disabled-bg-color);\n",
              "    fill: var(--disabled-fill-color);\n",
              "    box-shadow: none;\n",
              "  }\n",
              "\n",
              "  .colab-df-spinner {\n",
              "    border: 2px solid var(--fill-color);\n",
              "    border-color: transparent;\n",
              "    border-bottom-color: var(--fill-color);\n",
              "    animation:\n",
              "      spin 1s steps(1) infinite;\n",
              "  }\n",
              "\n",
              "  @keyframes spin {\n",
              "    0% {\n",
              "      border-color: transparent;\n",
              "      border-bottom-color: var(--fill-color);\n",
              "      border-left-color: var(--fill-color);\n",
              "    }\n",
              "    20% {\n",
              "      border-color: transparent;\n",
              "      border-left-color: var(--fill-color);\n",
              "      border-top-color: var(--fill-color);\n",
              "    }\n",
              "    30% {\n",
              "      border-color: transparent;\n",
              "      border-left-color: var(--fill-color);\n",
              "      border-top-color: var(--fill-color);\n",
              "      border-right-color: var(--fill-color);\n",
              "    }\n",
              "    40% {\n",
              "      border-color: transparent;\n",
              "      border-right-color: var(--fill-color);\n",
              "      border-top-color: var(--fill-color);\n",
              "    }\n",
              "    60% {\n",
              "      border-color: transparent;\n",
              "      border-right-color: var(--fill-color);\n",
              "    }\n",
              "    80% {\n",
              "      border-color: transparent;\n",
              "      border-right-color: var(--fill-color);\n",
              "      border-bottom-color: var(--fill-color);\n",
              "    }\n",
              "    90% {\n",
              "      border-color: transparent;\n",
              "      border-bottom-color: var(--fill-color);\n",
              "    }\n",
              "  }\n",
              "</style>\n",
              "\n",
              "  <script>\n",
              "    async function quickchart(key) {\n",
              "      const quickchartButtonEl =\n",
              "        document.querySelector('#' + key + ' button');\n",
              "      quickchartButtonEl.disabled = true;  // To prevent multiple clicks.\n",
              "      quickchartButtonEl.classList.add('colab-df-spinner');\n",
              "      try {\n",
              "        const charts = await google.colab.kernel.invokeFunction(\n",
              "            'suggestCharts', [key], {});\n",
              "      } catch (error) {\n",
              "        console.error('Error during call to suggestCharts:', error);\n",
              "      }\n",
              "      quickchartButtonEl.classList.remove('colab-df-spinner');\n",
              "      quickchartButtonEl.classList.add('colab-df-quickchart-complete');\n",
              "    }\n",
              "    (() => {\n",
              "      let quickchartButtonEl =\n",
              "        document.querySelector('#df-52792bee-0628-47e1-937a-36a15967a11c button');\n",
              "      quickchartButtonEl.style.display =\n",
              "        google.colab.kernel.accessAllowed ? 'block' : 'none';\n",
              "    })();\n",
              "  </script>\n",
              "</div>\n",
              "    </div>\n",
              "  </div>\n"
            ],
            "application/vnd.google.colaboratory.intrinsic+json": {
              "type": "dataframe",
              "variable_name": "df",
              "summary": "{\n  \"name\": \"df\",\n  \"rows\": 11,\n  \"fields\": [\n    {\n      \"column\": \"\\u0424\\u0443\\u0442\\u0431\\u043e\\u043b\\u0438\\u0441\\u0442\\u044b\",\n      \"properties\": {\n        \"dtype\": \"Int64\",\n        \"num_unique_values\": 8,\n        \"samples\": [\n          175,\n          185,\n          173\n        ],\n        \"semantic_type\": \"\",\n        \"description\": \"\"\n      }\n    },\n    {\n      \"column\": \"\\u0425\\u043e\\u043a\\u043a\\u0435\\u0438\\u0441\\u0442\\u044b\",\n      \"properties\": {\n        \"dtype\": \"Int64\",\n        \"num_unique_values\": 7,\n        \"samples\": [\n          177,\n          179,\n          171\n        ],\n        \"semantic_type\": \"\",\n        \"description\": \"\"\n      }\n    },\n    {\n      \"column\": \"\\u0428\\u0442\\u0430\\u043d\\u0433\\u0438\\u0441\\u0442\\u044b\",\n      \"properties\": {\n        \"dtype\": \"Int64\",\n        \"num_unique_values\": 8,\n        \"samples\": [\n          173,\n          180,\n          172\n        ],\n        \"semantic_type\": \"\",\n        \"description\": \"\"\n      }\n    }\n  ]\n}"
            }
          },
          "metadata": {},
          "execution_count": 101
        }
      ]
    },
    {
      "cell_type": "markdown",
      "source": [
        "Назовем \"неполными измерениями\": 9, 10, 11. Далее удалим их и проведем post hoc test Тьюки"
      ],
      "metadata": {
        "id": "1oBy9F6tnKHJ"
      }
    },
    {
      "cell_type": "code",
      "source": [
        "# удалим данные \"неполных измерений\": 9, 10, 11\n",
        "data = [df[col].dropna() for col in df]"
      ],
      "metadata": {
        "id": "dZHozCyYkc-d"
      },
      "execution_count": null,
      "outputs": []
    },
    {
      "cell_type": "code",
      "source": [
        "# perform Tukey's test\n",
        "from statsmodels.stats.multicomp import pairwise_tukeyhsd\n",
        "\n",
        "#create DataFrame to hold data\n",
        "#df = pd.DataFrame({'рост': [173, 175, 180, 178, 177, 185, 183, 182, 177, 179, 180, 188, 177, 172, 171, 184, 172, 173, 169, 177, 166, 180, 178, 177],\n",
        "#df = pd.DataFrame({'рост': [173, 175, 180, 178, 177, 185, 183, 182, 177, 179, 180, 188, 177, 172, 171, 184, 172, 173, 169, 177, 166, 180, 178, 177],\n",
        "df = pd.DataFrame({'рост': [173, 175, 180, 178, 177, 185, 183, 182, 177, 179, 180, 188, 177, 172, 171, 184, 172, 173, 169, 177, 166, 180, 178, 177],\n",
        "                   'группа': np.repeat(['Футболисты', 'Хоккеисты', 'Штангисты'], repeats = 8)})\n",
        "\n",
        "tukey = pairwise_tukeyhsd(endog = df['рост'],\n",
        "                          groups = df['группа'],\n",
        "                          alpha = 0.05)\n",
        "\n",
        "#display results\n",
        "print(tukey)"
      ],
      "metadata": {
        "colab": {
          "base_uri": "https://localhost:8080/"
        },
        "id": "XcCadN8Klyly",
        "outputId": "a5bdfc3c-7154-4235-80da-a7e555436aee"
      },
      "execution_count": 113,
      "outputs": [
        {
          "output_type": "stream",
          "name": "stdout",
          "text": [
            "    Multiple Comparison of Means - Tukey HSD, FWER=0.05    \n",
            "===========================================================\n",
            "  group1     group2  meandiff p-adj   lower   upper  reject\n",
            "-----------------------------------------------------------\n",
            "Футболисты Хоккеисты   -0.625 0.9651  -6.8289 5.5789  False\n",
            "Футболисты Штангисты   -5.125 0.1178 -11.3289 1.0789  False\n",
            " Хоккеисты Штангисты     -4.5 0.1849 -10.7039 1.7039  False\n",
            "-----------------------------------------------------------\n"
          ]
        }
      ]
    },
    {
      "cell_type": "markdown",
      "source": [
        "Мы видим что при таком подходе статистические различия при alpha=0.05 не найдены между ростами групп:\n",
        " - Футболисты и Хоккеисты (так как p-value = 0.9651 > α)\n",
        " - Футболисты и Штангисты (так как p-value = 0.1178 > α)\n",
        " - Хоккеисты  и Штангисты (так как p-value = 0.1849 > α)\n",
        "** но это противоречит первичным выводам в пункте 1**"
      ],
      "metadata": {
        "id": "rfptZtVqnZTX"
      }
    },
    {
      "cell_type": "markdown",
      "source": [
        "2.2. **Поэтому попробуем добавить измерения 9, 10, 11 к группе 'Футболисты' \\\n",
        "и 10, 11 к группе 'Хоккеисты' на основе средних значений по каждой из этих групп** \\\n",
        "(df_model['Футболисты'].mean() = 179,  df_model['Хоккеисты'].mean() = 178)"
      ],
      "metadata": {
        "id": "jheMfLY_03u8"
      }
    },
    {
      "cell_type": "code",
      "source": [
        "ftbl_height = pd.Series([173, 175, 180, 178, 177, 185, 183, 182], name='Футболисты', dtype='float64')\n",
        "hck_height = pd.Series([177, 179, 180, 188, 177, 172, 171, 184, 180], name='Хоккеисты', dtype='float64')\n",
        "pwr_height = pd.Series([172, 173, 169, 177, 166, 180, 178, 177, 172, 166, 170], name='Штангисты', dtype='float64')\n",
        "\n",
        "df_model = pd.concat([ftbl_height, hck_height, pwr_height], axis=1)\n",
        "\n",
        "df_model['Футболисты'].fillna(df_model['Футболисты'].mean(), inplace=True)\n",
        "df_model['Хоккеисты'].fillna(df_model['Хоккеисты'].mean(), inplace=True)\n",
        "\n",
        "df_model['Футболисты'] = df_model['Футболисты'].astype('int64')\n",
        "df_model['Хоккеисты'] = df_model['Хоккеисты'].astype('int64')\n",
        "df_model['Штангисты'] = df_model['Штангисты'].astype('int64')\n",
        "\n",
        "df_model.index = range(1, len(df_model) + 1)\n",
        "df_model"
      ],
      "metadata": {
        "colab": {
          "base_uri": "https://localhost:8080/",
          "height": 394
        },
        "id": "1oqxalucuyUk",
        "outputId": "8b0f3753-c5b5-4424-9c75-06b50adda97d"
      },
      "execution_count": 114,
      "outputs": [
        {
          "output_type": "execute_result",
          "data": {
            "text/plain": [
              "    Футболисты  Хоккеисты  Штангисты\n",
              "1          173        177        172\n",
              "2          175        179        173\n",
              "3          180        180        169\n",
              "4          178        188        177\n",
              "5          177        177        166\n",
              "6          185        172        180\n",
              "7          183        171        178\n",
              "8          182        184        177\n",
              "9          179        180        172\n",
              "10         179        178        166\n",
              "11         179        178        170"
            ],
            "text/html": [
              "\n",
              "  <div id=\"df-26dcb4ce-c2dd-43bc-8150-da6731c34854\" class=\"colab-df-container\">\n",
              "    <div>\n",
              "<style scoped>\n",
              "    .dataframe tbody tr th:only-of-type {\n",
              "        vertical-align: middle;\n",
              "    }\n",
              "\n",
              "    .dataframe tbody tr th {\n",
              "        vertical-align: top;\n",
              "    }\n",
              "\n",
              "    .dataframe thead th {\n",
              "        text-align: right;\n",
              "    }\n",
              "</style>\n",
              "<table border=\"1\" class=\"dataframe\">\n",
              "  <thead>\n",
              "    <tr style=\"text-align: right;\">\n",
              "      <th></th>\n",
              "      <th>Футболисты</th>\n",
              "      <th>Хоккеисты</th>\n",
              "      <th>Штангисты</th>\n",
              "    </tr>\n",
              "  </thead>\n",
              "  <tbody>\n",
              "    <tr>\n",
              "      <th>1</th>\n",
              "      <td>173</td>\n",
              "      <td>177</td>\n",
              "      <td>172</td>\n",
              "    </tr>\n",
              "    <tr>\n",
              "      <th>2</th>\n",
              "      <td>175</td>\n",
              "      <td>179</td>\n",
              "      <td>173</td>\n",
              "    </tr>\n",
              "    <tr>\n",
              "      <th>3</th>\n",
              "      <td>180</td>\n",
              "      <td>180</td>\n",
              "      <td>169</td>\n",
              "    </tr>\n",
              "    <tr>\n",
              "      <th>4</th>\n",
              "      <td>178</td>\n",
              "      <td>188</td>\n",
              "      <td>177</td>\n",
              "    </tr>\n",
              "    <tr>\n",
              "      <th>5</th>\n",
              "      <td>177</td>\n",
              "      <td>177</td>\n",
              "      <td>166</td>\n",
              "    </tr>\n",
              "    <tr>\n",
              "      <th>6</th>\n",
              "      <td>185</td>\n",
              "      <td>172</td>\n",
              "      <td>180</td>\n",
              "    </tr>\n",
              "    <tr>\n",
              "      <th>7</th>\n",
              "      <td>183</td>\n",
              "      <td>171</td>\n",
              "      <td>178</td>\n",
              "    </tr>\n",
              "    <tr>\n",
              "      <th>8</th>\n",
              "      <td>182</td>\n",
              "      <td>184</td>\n",
              "      <td>177</td>\n",
              "    </tr>\n",
              "    <tr>\n",
              "      <th>9</th>\n",
              "      <td>179</td>\n",
              "      <td>180</td>\n",
              "      <td>172</td>\n",
              "    </tr>\n",
              "    <tr>\n",
              "      <th>10</th>\n",
              "      <td>179</td>\n",
              "      <td>178</td>\n",
              "      <td>166</td>\n",
              "    </tr>\n",
              "    <tr>\n",
              "      <th>11</th>\n",
              "      <td>179</td>\n",
              "      <td>178</td>\n",
              "      <td>170</td>\n",
              "    </tr>\n",
              "  </tbody>\n",
              "</table>\n",
              "</div>\n",
              "    <div class=\"colab-df-buttons\">\n",
              "\n",
              "  <div class=\"colab-df-container\">\n",
              "    <button class=\"colab-df-convert\" onclick=\"convertToInteractive('df-26dcb4ce-c2dd-43bc-8150-da6731c34854')\"\n",
              "            title=\"Convert this dataframe to an interactive table.\"\n",
              "            style=\"display:none;\">\n",
              "\n",
              "  <svg xmlns=\"http://www.w3.org/2000/svg\" height=\"24px\" viewBox=\"0 -960 960 960\">\n",
              "    <path d=\"M120-120v-720h720v720H120Zm60-500h600v-160H180v160Zm220 220h160v-160H400v160Zm0 220h160v-160H400v160ZM180-400h160v-160H180v160Zm440 0h160v-160H620v160ZM180-180h160v-160H180v160Zm440 0h160v-160H620v160Z\"/>\n",
              "  </svg>\n",
              "    </button>\n",
              "\n",
              "  <style>\n",
              "    .colab-df-container {\n",
              "      display:flex;\n",
              "      gap: 12px;\n",
              "    }\n",
              "\n",
              "    .colab-df-convert {\n",
              "      background-color: #E8F0FE;\n",
              "      border: none;\n",
              "      border-radius: 50%;\n",
              "      cursor: pointer;\n",
              "      display: none;\n",
              "      fill: #1967D2;\n",
              "      height: 32px;\n",
              "      padding: 0 0 0 0;\n",
              "      width: 32px;\n",
              "    }\n",
              "\n",
              "    .colab-df-convert:hover {\n",
              "      background-color: #E2EBFA;\n",
              "      box-shadow: 0px 1px 2px rgba(60, 64, 67, 0.3), 0px 1px 3px 1px rgba(60, 64, 67, 0.15);\n",
              "      fill: #174EA6;\n",
              "    }\n",
              "\n",
              "    .colab-df-buttons div {\n",
              "      margin-bottom: 4px;\n",
              "    }\n",
              "\n",
              "    [theme=dark] .colab-df-convert {\n",
              "      background-color: #3B4455;\n",
              "      fill: #D2E3FC;\n",
              "    }\n",
              "\n",
              "    [theme=dark] .colab-df-convert:hover {\n",
              "      background-color: #434B5C;\n",
              "      box-shadow: 0px 1px 3px 1px rgba(0, 0, 0, 0.15);\n",
              "      filter: drop-shadow(0px 1px 2px rgba(0, 0, 0, 0.3));\n",
              "      fill: #FFFFFF;\n",
              "    }\n",
              "  </style>\n",
              "\n",
              "    <script>\n",
              "      const buttonEl =\n",
              "        document.querySelector('#df-26dcb4ce-c2dd-43bc-8150-da6731c34854 button.colab-df-convert');\n",
              "      buttonEl.style.display =\n",
              "        google.colab.kernel.accessAllowed ? 'block' : 'none';\n",
              "\n",
              "      async function convertToInteractive(key) {\n",
              "        const element = document.querySelector('#df-26dcb4ce-c2dd-43bc-8150-da6731c34854');\n",
              "        const dataTable =\n",
              "          await google.colab.kernel.invokeFunction('convertToInteractive',\n",
              "                                                    [key], {});\n",
              "        if (!dataTable) return;\n",
              "\n",
              "        const docLinkHtml = 'Like what you see? Visit the ' +\n",
              "          '<a target=\"_blank\" href=https://colab.research.google.com/notebooks/data_table.ipynb>data table notebook</a>'\n",
              "          + ' to learn more about interactive tables.';\n",
              "        element.innerHTML = '';\n",
              "        dataTable['output_type'] = 'display_data';\n",
              "        await google.colab.output.renderOutput(dataTable, element);\n",
              "        const docLink = document.createElement('div');\n",
              "        docLink.innerHTML = docLinkHtml;\n",
              "        element.appendChild(docLink);\n",
              "      }\n",
              "    </script>\n",
              "  </div>\n",
              "\n",
              "\n",
              "<div id=\"df-e56e1d20-c64f-4a28-b313-aab58f35de69\">\n",
              "  <button class=\"colab-df-quickchart\" onclick=\"quickchart('df-e56e1d20-c64f-4a28-b313-aab58f35de69')\"\n",
              "            title=\"Suggest charts\"\n",
              "            style=\"display:none;\">\n",
              "\n",
              "<svg xmlns=\"http://www.w3.org/2000/svg\" height=\"24px\"viewBox=\"0 0 24 24\"\n",
              "     width=\"24px\">\n",
              "    <g>\n",
              "        <path d=\"M19 3H5c-1.1 0-2 .9-2 2v14c0 1.1.9 2 2 2h14c1.1 0 2-.9 2-2V5c0-1.1-.9-2-2-2zM9 17H7v-7h2v7zm4 0h-2V7h2v10zm4 0h-2v-4h2v4z\"/>\n",
              "    </g>\n",
              "</svg>\n",
              "  </button>\n",
              "\n",
              "<style>\n",
              "  .colab-df-quickchart {\n",
              "      --bg-color: #E8F0FE;\n",
              "      --fill-color: #1967D2;\n",
              "      --hover-bg-color: #E2EBFA;\n",
              "      --hover-fill-color: #174EA6;\n",
              "      --disabled-fill-color: #AAA;\n",
              "      --disabled-bg-color: #DDD;\n",
              "  }\n",
              "\n",
              "  [theme=dark] .colab-df-quickchart {\n",
              "      --bg-color: #3B4455;\n",
              "      --fill-color: #D2E3FC;\n",
              "      --hover-bg-color: #434B5C;\n",
              "      --hover-fill-color: #FFFFFF;\n",
              "      --disabled-bg-color: #3B4455;\n",
              "      --disabled-fill-color: #666;\n",
              "  }\n",
              "\n",
              "  .colab-df-quickchart {\n",
              "    background-color: var(--bg-color);\n",
              "    border: none;\n",
              "    border-radius: 50%;\n",
              "    cursor: pointer;\n",
              "    display: none;\n",
              "    fill: var(--fill-color);\n",
              "    height: 32px;\n",
              "    padding: 0;\n",
              "    width: 32px;\n",
              "  }\n",
              "\n",
              "  .colab-df-quickchart:hover {\n",
              "    background-color: var(--hover-bg-color);\n",
              "    box-shadow: 0 1px 2px rgba(60, 64, 67, 0.3), 0 1px 3px 1px rgba(60, 64, 67, 0.15);\n",
              "    fill: var(--button-hover-fill-color);\n",
              "  }\n",
              "\n",
              "  .colab-df-quickchart-complete:disabled,\n",
              "  .colab-df-quickchart-complete:disabled:hover {\n",
              "    background-color: var(--disabled-bg-color);\n",
              "    fill: var(--disabled-fill-color);\n",
              "    box-shadow: none;\n",
              "  }\n",
              "\n",
              "  .colab-df-spinner {\n",
              "    border: 2px solid var(--fill-color);\n",
              "    border-color: transparent;\n",
              "    border-bottom-color: var(--fill-color);\n",
              "    animation:\n",
              "      spin 1s steps(1) infinite;\n",
              "  }\n",
              "\n",
              "  @keyframes spin {\n",
              "    0% {\n",
              "      border-color: transparent;\n",
              "      border-bottom-color: var(--fill-color);\n",
              "      border-left-color: var(--fill-color);\n",
              "    }\n",
              "    20% {\n",
              "      border-color: transparent;\n",
              "      border-left-color: var(--fill-color);\n",
              "      border-top-color: var(--fill-color);\n",
              "    }\n",
              "    30% {\n",
              "      border-color: transparent;\n",
              "      border-left-color: var(--fill-color);\n",
              "      border-top-color: var(--fill-color);\n",
              "      border-right-color: var(--fill-color);\n",
              "    }\n",
              "    40% {\n",
              "      border-color: transparent;\n",
              "      border-right-color: var(--fill-color);\n",
              "      border-top-color: var(--fill-color);\n",
              "    }\n",
              "    60% {\n",
              "      border-color: transparent;\n",
              "      border-right-color: var(--fill-color);\n",
              "    }\n",
              "    80% {\n",
              "      border-color: transparent;\n",
              "      border-right-color: var(--fill-color);\n",
              "      border-bottom-color: var(--fill-color);\n",
              "    }\n",
              "    90% {\n",
              "      border-color: transparent;\n",
              "      border-bottom-color: var(--fill-color);\n",
              "    }\n",
              "  }\n",
              "</style>\n",
              "\n",
              "  <script>\n",
              "    async function quickchart(key) {\n",
              "      const quickchartButtonEl =\n",
              "        document.querySelector('#' + key + ' button');\n",
              "      quickchartButtonEl.disabled = true;  // To prevent multiple clicks.\n",
              "      quickchartButtonEl.classList.add('colab-df-spinner');\n",
              "      try {\n",
              "        const charts = await google.colab.kernel.invokeFunction(\n",
              "            'suggestCharts', [key], {});\n",
              "      } catch (error) {\n",
              "        console.error('Error during call to suggestCharts:', error);\n",
              "      }\n",
              "      quickchartButtonEl.classList.remove('colab-df-spinner');\n",
              "      quickchartButtonEl.classList.add('colab-df-quickchart-complete');\n",
              "    }\n",
              "    (() => {\n",
              "      let quickchartButtonEl =\n",
              "        document.querySelector('#df-e56e1d20-c64f-4a28-b313-aab58f35de69 button');\n",
              "      quickchartButtonEl.style.display =\n",
              "        google.colab.kernel.accessAllowed ? 'block' : 'none';\n",
              "    })();\n",
              "  </script>\n",
              "</div>\n",
              "    </div>\n",
              "  </div>\n"
            ],
            "application/vnd.google.colaboratory.intrinsic+json": {
              "type": "dataframe",
              "variable_name": "df_model",
              "summary": "{\n  \"name\": \"df_model\",\n  \"rows\": 11,\n  \"fields\": [\n    {\n      \"column\": \"\\u0424\\u0443\\u0442\\u0431\\u043e\\u043b\\u0438\\u0441\\u0442\\u044b\",\n      \"properties\": {\n        \"dtype\": \"number\",\n        \"std\": 3,\n        \"min\": 173,\n        \"max\": 185,\n        \"num_unique_values\": 9,\n        \"samples\": [\n          182,\n          175,\n          185\n        ],\n        \"semantic_type\": \"\",\n        \"description\": \"\"\n      }\n    },\n    {\n      \"column\": \"\\u0425\\u043e\\u043a\\u043a\\u0435\\u0438\\u0441\\u0442\\u044b\",\n      \"properties\": {\n        \"dtype\": \"number\",\n        \"std\": 4,\n        \"min\": 171,\n        \"max\": 188,\n        \"num_unique_values\": 8,\n        \"samples\": [\n          179,\n          171,\n          177\n        ],\n        \"semantic_type\": \"\",\n        \"description\": \"\"\n      }\n    },\n    {\n      \"column\": \"\\u0428\\u0442\\u0430\\u043d\\u0433\\u0438\\u0441\\u0442\\u044b\",\n      \"properties\": {\n        \"dtype\": \"number\",\n        \"std\": 4,\n        \"min\": 166,\n        \"max\": 180,\n        \"num_unique_values\": 8,\n        \"samples\": [\n          173,\n          180,\n          172\n        ],\n        \"semantic_type\": \"\",\n        \"description\": \"\"\n      }\n    }\n  ]\n}"
            }
          },
          "metadata": {},
          "execution_count": 114
        }
      ]
    },
    {
      "cell_type": "markdown",
      "source": [
        "**снова проведем post hoc test Тьюки (N2)**"
      ],
      "metadata": {
        "id": "Ng74AeVd1T7V"
      }
    },
    {
      "cell_type": "code",
      "source": [
        "# perform Tukey's test N2\n",
        "from statsmodels.stats.multicomp import pairwise_tukeyhsd\n",
        "\n",
        "#create DataFrame to hold data\n",
        "df_model = pd.DataFrame({'рост': [173, 175, 180, 178, 177, 185, 183, 182, 179, 179, 179, 177, 179, 180, 188, 177, 172, 171, 184, 180, 178, 178, 172, 173, 169, 177, 166, 180, 178, 177, 172, 166, 170],\n",
        "                   'группа': np.repeat(['Футболисты', 'Хоккеисты', 'Штангисты'], repeats = 11)})\n",
        "\n",
        "tukey = pairwise_tukeyhsd(endog = df_model['рост'],\n",
        "                          groups = df_model['группа'],\n",
        "                          alpha = 0.05)\n",
        "\n",
        "#display results\n",
        "print(tukey)"
      ],
      "metadata": {
        "colab": {
          "base_uri": "https://localhost:8080/"
        },
        "id": "qQEW7hdF0Glx",
        "outputId": "b2c4273f-3cc9-45b7-da32-dfa4c1867e29"
      },
      "execution_count": 115,
      "outputs": [
        {
          "output_type": "stream",
          "name": "stdout",
          "text": [
            "    Multiple Comparison of Means - Tukey HSD, FWER=0.05     \n",
            "============================================================\n",
            "  group1     group2  meandiff p-adj   lower    upper  reject\n",
            "------------------------------------------------------------\n",
            "Футболисты Хоккеисты  -0.5455 0.9543  -5.1588  4.0679  False\n",
            "Футболисты Штангисты  -6.3636 0.0053  -10.977 -1.7503   True\n",
            " Хоккеисты Штангисты  -5.8182 0.0111 -10.4316 -1.2048   True\n",
            "------------------------------------------------------------\n"
          ]
        }
      ]
    },
    {
      "cell_type": "markdown",
      "source": [
        "Мы видим что в варианте N2 статистические различия при alpha=0.05 найдены между ростами групп:\n",
        " - Футболисты и Штангисты (так как p-value = 0.0053 < α)\n",
        " - Хоккеисты  и Штангисты (так как p-value = 0.0111 < α)"
      ],
      "metadata": {
        "id": "j_BuM-Pu1Xyc"
      }
    },
    {
      "cell_type": "code",
      "source": [
        "boxplot_new = df_model.boxplot('рост', by='группа', figsize=(8, 6), patch_artist = True)\n",
        "sns.set_palette(['orange', 'yellow'])\n",
        "plt.boxplot([ftbl_heights, hck_heights, pwr_heights], labels = ['Футболисты', 'Хоккеисты', 'Штангисты'], patch_artist = True)\n",
        "plt.title(\"Смоделированное распределение роста по группам\")\n",
        "plt.xlabel(\"Группа\")\n",
        "plt.ylabel(\"Рост\")\n",
        "plt.grid(True)\n",
        "plt.show();"
      ],
      "metadata": {
        "colab": {
          "base_uri": "https://localhost:8080/",
          "height": 578
        },
        "id": "HXHh3Bec2Fvd",
        "outputId": "c2a9d8ed-5263-4e87-d407-7e6c3ba7577c"
      },
      "execution_count": 121,
      "outputs": [
        {
          "output_type": "display_data",
          "data": {
            "text/plain": [
              "<Figure size 800x600 with 1 Axes>"
            ],
            "image/png": "[encoded data removed]"
          },
          "metadata": {}
        }
      ]
    }
  ]
}