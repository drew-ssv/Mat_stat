{
  "nbformat": 4,
  "nbformat_minor": 0,
  "metadata": {
    "colab": {
      "provenance": []
    },
    "kernelspec": {
      "name": "python3",
      "display_name": "Python 3"
    },
    "language_info": {
      "name": "python"
    }
  },
  "cells": [
    {
      "cell_type": "markdown",
      "source": [
        "DZ_5_Тестирование_гипотез"
      ],
      "metadata": {
        "id": "zzJEtuhx2VsR"
      }
    },
    {
      "cell_type": "code",
      "source": [
        "import scipy.stats as stats\n",
        "import numpy as np"
      ],
      "metadata": {
        "id": "8TVR8nHTSlCJ"
      },
      "execution_count": 2,
      "outputs": []
    },
    {
      "cell_type": "markdown",
      "source": [
        "#1. Когда используется критерий Стьюдента, а когда Z –критерий?\n",
        "Ответ: \\\n",
        "данные критерии использутся для оценки нормального распредления \\\n",
        "**- если не известно std** (среднеквадр. отклонение ген/совокупности) **или D** (дисперсия ген совокупности) **и выборка менее или равна 30, то используется t-распределение и критерий Стьюдента**\n",
        "**- в случае, когда std или D ген совокупности известна, а также в случае, когда std неизвестно, но выборка более 30, тогда** используется z-распределение и **находится z-критерий**"
      ],
      "metadata": {
        "id": "dxIYnIfLCqJK"
      }
    },
    {
      "cell_type": "markdown",
      "source": [
        "#2. Проведите тест гипотезы. Утверждается, что шарики для подшипников, изготовленные автоматическим станком, имеют средний диаметр 17 мм. Используя односторонний критерий с α=0,05, проверить эту гипотезу, если в выборке из n=100 шариков средний диаметр оказался равным 17.5 мм, а дисперсия известна и равна 4 кв. мм.\n",
        "\n",
        "Решение: \\\n",
        "Запись данных:  X̅ = 17мм;  α = 0,05;  n = 100;  D = 4 кв.мм.; µ(x) = 17.5; std = √D = 2 \\\n",
        "**Запись гипотез: H0 = X̅ = µ(x) и H1 = X̅ > µ(x)** \\\n",
        "в случае, когда std неизвестно, но выборка более 30, тогда используется z-распределение \\\n",
        "SE = std / √n = 2/√100 = 0.2 \\\n",
        "z_raschetn = X̅ - µ(x)/ SE  z = 17.5 - 17 / 0.2 = 2,5 \\\n",
        "\n",
        "Ниже подгрузим z_critich:"
      ],
      "metadata": {
        "id": "-GogQaPXDtpe"
      }
    },
    {
      "cell_type": "code",
      "source": [
        " α = 0.05\n",
        " z_critich = stats.norm.ppf(1- α)\n",
        " print (round (z_critich,3))"
      ],
      "metadata": {
        "colab": {
          "base_uri": "https://localhost:8080/"
        },
        "id": "ifYhdw6EUU2F",
        "outputId": "81831bc7-c4f0-47e5-a662-0ebbc14e582f"
      },
      "execution_count": 12,
      "outputs": [
        {
          "output_type": "stream",
          "name": "stdout",
          "text": [
            "1.645\n"
          ]
        }
      ]
    },
    {
      "cell_type": "markdown",
      "source": [
        "Ответ: \\\n",
        "H0 остается если  z_raschetn < z_critich, а у нас z_raschetn = 2,5 > z_critich = 1.645 \\\n",
        "**таким образом выбираем H1:** \\\n",
        "**в выборке из n=100 шариков средний диаметр оказажется равным 17.5 мм в 95% случаев**\n"
      ],
      "metadata": {
        "id": "gw21fwJxVhbN"
      }
    },
    {
      "cell_type": "markdown",
      "source": [],
      "metadata": {
        "id": "Iv1_-i_MXMzj"
      }
    },
    {
      "cell_type": "markdown",
      "source": [
        "#3. Проведите тест гипотезы. Продавец утверждает, что средний вес пачки печенья составляет 200 г. Из партии извлечена выборка из 10 пачек. Вес каждой пачки составляет: 202, 203, 199, 197, 195, 201, 200, 204, 194, 190. Известно, что их веса распределены нормально. Верно ли утверждение продавца, если учитывать, что доверительная вероятность равна 99%?\n",
        "\n",
        "Решение: \\\n",
        "Запись данных:  X̅ = avg [202, 203, 199, 197, 195, 201, 200, 204, 194, 190] = 198.5  \\\n",
        "α = 1 - 0.99 = 0,01, но так как тест 2-сторонний, то α2 = 0,005;   df = n - 1 = 9;   n = 10   µ(x) = 200  D = ?  \\\n",
        "**Запись гипотез: H0 = µ(x) = 200 и H1 = X̅ ≠ µ(x)** \\\n",
        "в случае, когда std неизвестно, и выборка менее или равна 30, тогда используется t-распределение \\\n",
        "Дисперсию все-таки считал автоматически через np.std, σx= √D \\\n",
        "t_raschetn = (X̅ – μ) / (σx / √n) = (198.5 - 200) / (2.0555 / √10) =  −1.5 / (2.06 / 3.16) = −1.5 / 0,65 = -3 / 1,3 = - 2.3\n",
        "\n",
        "\n",
        "Ниже подгрузим t_critich (табл/знач при  9 степ/свободы и ур стат/занчим. 1-α = 0.995):"
      ],
      "metadata": {
        "id": "7vZQw_2YXUAy"
      }
    },
    {
      "cell_type": "code",
      "source": [
        "X = [202, 203, 199, 197, 195, 201, 200, 204, 194, 190]\n",
        "D = np.std(X)\n",
        "σx = np.sqrt(D)\n",
        "α, df = 0.005, 9\n",
        "t_critich = stats.t.ppf(α, df)\n",
        "print (f'D = {round(D, 4)}, σx = {round(σx, 4)}, t_critich = {round(t_critich, 3)}')"
      ],
      "metadata": {
        "colab": {
          "base_uri": "https://localhost:8080/"
        },
        "id": "6GMTPFKeaLZl",
        "outputId": "c0ee826b-4802-435c-9312-971d73171731"
      },
      "execution_count": 6,
      "outputs": [
        {
          "output_type": "stream",
          "name": "stdout",
          "text": [
            "D = 4.2249, σx = 2.0555, t_critich = -3.25\n"
          ]
        }
      ]
    },
    {
      "cell_type": "markdown",
      "source": [
        "Ответ:\n",
        "H0 остается если t_raschetn < t_critich,  у нас t_raschetn = -2.3 < t_critich = -3,25 \\\n",
        "**таким образом выбираем H0:** \\\n",
        "**утверждение продавца, если учитывать, что доверительная вероятность равна 99% вес пачки равен 200гр - верно**"
      ],
      "metadata": {
        "id": "P-ceuUF2bU3n"
      }
    },
    {
      "cell_type": "markdown",
      "source": [
        "#4. Есть ли статистически значимые различия в росте дочерей? Рост матерей 172, 177, 158, 170, 178,175, 164, 160, 169, 165; Рост взрослых дочерей: 173, 175, 162, 174, 175, 168, 155, 170, 160"
      ],
      "metadata": {
        "id": "9MOmI5-uuJ5t"
      }
    },
    {
      "cell_type": "code",
      "source": [
        "M_height = [172, 177, 158, 170, 178, 175, 164, 160, 169, 165]\n",
        "D_height = [173, 175, 162, 174, 175, 168, 155, 170, 160]\n",
        "α = 0.05\n",
        "print ('Гипотезы: \\n H0 : Средние t-критерии до и после теста равны / H1 : Средние t-критерии до и после теста не равны / уровень pvalue = 0,05 ')\n",
        "All_heights = M_height + D_height\n",
        "array_key = {'Mothers_height': M_height, 'Daughters_height': D_height}\n",
        "import random\n",
        "if len(M_height) < len (D_height):\n",
        "    random.seed(1)\n",
        "    new_M = random.randint(min(M_height), max(M_height))\n",
        "    M_height.append(new_M)\n",
        "    print('Array:', next(key for key, value in array_key.items() if value == M_height), 'append with new value = ', new_M, '.  New length = ', len (M_height), 'elements')\n",
        "elif len(M_height) > len (D_height):\n",
        "    random.seed(1)\n",
        "    new_D = random.randint(min(All_heights), max(All_heights))\n",
        "    D_height.append(new_D)\n",
        "    print('Array:', next(key for key, value in array_key.items() if value == D_height), 'append with new value = ', new_D, '.  New length = ', len (D_height), 'elements')\n",
        "else:\n",
        "    print ('All is OK, array length Mothers_height = Daughters_height')\n",
        "\n",
        "\n",
        "X̅_M, X̅_D  = np.mean(M_height), np.mean(D_height)\n",
        "print ('Avg height X̅_Mothers', X̅_M, '.  Avg height X̅_Daughters', X̅_D)\n",
        "stats.ttest_rel(M_height, D_height) #выборки зависимые, поэтому ttest_rel"
      ],
      "metadata": {
        "colab": {
          "base_uri": "https://localhost:8080/"
        },
        "id": "HPIQ_EkauTFA",
        "outputId": "a134a0dc-7d78-4552-f701-793e7dccb309"
      },
      "execution_count": 7,
      "outputs": [
        {
          "output_type": "stream",
          "name": "stdout",
          "text": [
            "Гипотезы: \n",
            " H0 : Средние t-критерии до и после теста равны / H1 : Средние t-критерии до и после теста не равны / уровень pvalue = 0,05 \n",
            "Array: Daughters_height append with new value =  159 .  New length =  10 elements\n",
            "Avg height X̅_Mothers 168.8 .  Avg height X̅_Daughters 167.1\n"
          ]
        },
        {
          "output_type": "execute_result",
          "data": {
            "text/plain": [
              "TtestResult(statistic=0.8452006777465805, pvalue=0.4198999400452258, df=9)"
            ]
          },
          "metadata": {},
          "execution_count": 7
        }
      ]
    },
    {
      "cell_type": "code",
      "source": [
        "pvalue = 0.4198999400452258\n",
        "if pvalue < α:\n",
        "    print ('Ответ: Поскольку pvalue меньше α, мы отвергаем H0 и принимаем H1')\n",
        "else:\n",
        "     print ('Ответ: Поскольку pvalue больше α, нет оснований опровергнуть H0')"
      ],
      "metadata": {
        "colab": {
          "base_uri": "https://localhost:8080/"
        },
        "id": "2vm93pHG1Soi",
        "outputId": "05fc3afe-ede4-42df-bdc2-d294700a2a1b"
      },
      "execution_count": 13,
      "outputs": [
        {
          "output_type": "stream",
          "name": "stdout",
          "text": [
            "Ответ: Поскольку pvalue больше α, нет оснований опровергнуть H0\n"
          ]
        }
      ]
    }
  ]
}