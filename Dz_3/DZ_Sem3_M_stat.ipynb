{
  "nbformat": 4,
  "nbformat_minor": 0,
  "metadata": {
    "colab": {
      "provenance": []
    },
    "kernelspec": {
      "name": "python3",
      "display_name": "Python 3"
    },
    "language_info": {
      "name": "python"
    }
  },
  "cells": [
    {
      "cell_type": "markdown",
      "source": [
        "Семинар 3 \\\n",
        "EDA (exploratory data analysis) или Разведочный анализ\n"
      ],
      "metadata": {
        "id": "W2CAWpP4XRKL"
      }
    },
    {
      "cell_type": "code",
      "source": [
        "import numpy as np\n",
        "import math"
      ],
      "metadata": {
        "id": "RcFhCSu7cfE6"
      },
      "execution_count": 82,
      "outputs": []
    },
    {
      "cell_type": "markdown",
      "source": [
        "1. Даны значения зарплат из выборки выпускников: \\\n",
        "100, 80, 75, 77, 89, 33, 45, 25, 65, 17, 30, 24, 57, 55, 70, 75, 65, 84, 90, 150. \\\n",
        "Посчитать среднее арифметическое, среднее квадратичное отклонение, смещенную и несмещенную оценки дисперсий для данной выборки.\n"
      ],
      "metadata": {
        "id": "VpgQu6BVXhJn"
      }
    },
    {
      "cell_type": "code",
      "source": [
        "massive = [100, 80, 75, 77, 89, 33, 45, 25, 65, 17, 30, 24, 57, 55, 70, 75, 65, 84, 90, 150]\n",
        "massive.sort()\n",
        "\n",
        "mean = np.mean(massive)\n",
        "# Calculate standard deviation\n",
        "std_dev = np.std(massive)\n",
        "# Calculate biased variance\n",
        "biased_var = np.var(massive)\n",
        "# Calculate unbiased variance\n",
        "unbiased_var = np.var(massive, ddof=1)\n",
        "\n",
        "print(\"Arithmetic Mean:\", round(mean,2))\n",
        "print(\"Standard Deviation:\", round(std_dev,2))\n",
        "print(\"Biased Variance:\", round(biased_var,2))\n",
        "print(\"Unbiased Variance:\", round(unbiased_var,2), '\\n')\n",
        "\n",
        "print(f'massive length = {len(massive)}')\n",
        "for i, k in enumerate(massive):\n",
        "    print(k)"
      ],
      "metadata": {
        "colab": {
          "base_uri": "https://localhost:8080/"
        },
        "id": "Cqy_qxxOXYbm",
        "outputId": "64d85b96-a2e1-4721-fcce-f7138cd64de1"
      },
      "execution_count": 83,
      "outputs": [
        {
          "output_type": "stream",
          "name": "stdout",
          "text": [
            "Arithmetic Mean: 65.3\n",
            "Standard Deviation: 30.82\n",
            "Biased Variance: 950.11\n",
            "Unbiased Variance: 1000.12 \n",
            "\n",
            "massive length = 20\n",
            "17\n",
            "24\n",
            "25\n",
            "30\n",
            "33\n",
            "45\n",
            "55\n",
            "57\n",
            "65\n",
            "65\n",
            "70\n",
            "75\n",
            "75\n",
            "77\n",
            "80\n",
            "84\n",
            "89\n",
            "90\n",
            "100\n",
            "150\n"
          ]
        }
      ]
    },
    {
      "cell_type": "markdown",
      "source": [
        "2. В первом ящике находится 8 мячей, из которых 5 - белые. \\\n",
        "Во втором ящике - 12 мячей, из которых 5 белых. \\\n",
        "Из первого ящика вытаскивают случайным образом два мяча, из второго - 4. \\\n",
        "Какова вероятность того, что 3 мяча белые?\n"
      ],
      "metadata": {
        "id": "IvV7V22qXp9V"
      }
    },
    {
      "cell_type": "code",
      "source": [
        "# Num of success event (white balls) in boxes\n",
        "# Box1_success_event = 5 # n1 = 8 k = 5; Box2_success_event = 5 # n2 = 12 k = 5\n",
        "k = 5\n",
        "# Num of balls in boxes Box1 = 8; Box2 = 12\n",
        "n1 = 8\n",
        "n2 = 12\n",
        "\n",
        "# P1 2 white balls from Box1\n",
        "N = 2 # step1\n",
        "P1 = math.comb(k, N) / math.comb(n1, N)\n",
        "\n",
        "# P2 3 white balls from Box2\n",
        "N2 = 3 # step2\n",
        "P2 = math.comb(k, N2) / math.comb(n2, N2)\n",
        "\n",
        "# P3 2 white balls from Box1 & 1 white balls from Box2 = 2 white balls from Box1 * 3 white balls from Box2\n",
        "P3 = P1 * P2\n",
        "\n",
        "Q1 ='Какова вероятность того, что 3 мяча белые?'\n",
        "print(f'{Q1}\\n P = {round(P3,4)}')"
      ],
      "metadata": {
        "colab": {
          "base_uri": "https://localhost:8080/"
        },
        "id": "5Xb22gbyXuUg",
        "outputId": "83861514-8c69-4b14-a2c2-a9f2f610b67c"
      },
      "execution_count": 78,
      "outputs": [
        {
          "output_type": "stream",
          "name": "stdout",
          "text": [
            "Какова вероятность того, что 3 мяча белые?\n",
            " P = 0.0162\n"
          ]
        }
      ]
    },
    {
      "cell_type": "markdown",
      "source": [
        "3. На соревновании по биатлону один из трех спортсменов стреляет и попадает в мишень. \\\n",
        "Вероятность попадания для первого спортсмена равна 0.9, для второго — 0.8, для третьего — 0.6. \\\n",
        "Найти вероятность того, что выстрел произведен: \\\n",
        "a). первым спортсменом \\\n",
        "б). вторым спортсменом \\\n",
        "в). третьим спортсменом."
      ],
      "metadata": {
        "id": "itVgfyFZXzsq"
      }
    },
    {
      "cell_type": "code",
      "source": [
        "# Вероятности попадания в мишень для каждого спортсмена\n",
        "p_1s = 0.9  # Первый спортсмен\n",
        "p_2s = 0.8  # Второй спортсмен\n",
        "p_3s = 0.6  # Третий спортсмен\n",
        "# Общая средняя вероятность для всех спортсменов\n",
        "p_avg = p_avg_1s = p_avg_2s = p_avg_3s = 1/3\n",
        "# Новая средняя вероятность с учетом точности спортсменов\n",
        "normalize_p_avg = p_avg * (p_1s + p_2s + p_3s)\n",
        "# Новый обратный индивидуальный расчет вероятностей\n",
        "P_observable_1s = (p_avg * p_1s) / normalize_p_avg  # Первый спортсмен\n",
        "P_observable_2s = (p_avg * p_2s) / normalize_p_avg  # Второй спортсмен\n",
        "P_observable_3s = (p_avg * p_3s) / normalize_p_avg  # Третий спортсмен\n",
        "\n",
        "print(f'Вероятности того, что стрелял N спортсмен:\\n P(1)= {round(P_observable_1s,4)}\\n P(2)= {round(P_observable_2s,4)}\\n P(3)= {round(P_observable_3s,4)}')"
      ],
      "metadata": {
        "colab": {
          "base_uri": "https://localhost:8080/"
        },
        "id": "geU-sVKjXWE9",
        "outputId": "6941cb94-2564-47a0-ac0e-1e24537abed4"
      },
      "execution_count": 76,
      "outputs": [
        {
          "output_type": "stream",
          "name": "stdout",
          "text": [
            "Вероятности того, что стрелял N спортсмен:\n",
            " P(1)= 0.3913\n",
            " P(2)= 0.3478\n",
            " P(3)= 0.2609\n"
          ]
        }
      ]
    },
    {
      "cell_type": "markdown",
      "source": [
        "\n",
        "4. В университет на факультеты A и B поступило равное количество студентов, а на факультет C студентов поступило столько же, сколько на A и B вместе. \\\n",
        "Вероятность того, что студент факультета A сдаст первую сессию, равна 0.8. \\\n",
        "Для студента факультета B эта вероятность равна 0.7, а для студента факультета C - 0.9. \\\n",
        "Студент сдал первую сессию. \\\n",
        "Какова вероятность, что он учится:  \n",
        "а). на факультете A \\\n",
        "б). на факультете B \\\n",
        "в). на факультете C?"
      ],
      "metadata": {
        "id": "fluWrXyrX5KL"
      }
    },
    {
      "cell_type": "markdown",
      "source": [
        "Подвох = теорема Байеса для определения вероятности того, что студент учится на каждом из факультетов"
      ],
      "metadata": {
        "id": "qcf4161JqkxD"
      }
    },
    {
      "cell_type": "code",
      "execution_count": 74,
      "metadata": {
        "colab": {
          "base_uri": "https://localhost:8080/"
        },
        "id": "3wB8-eLRXJp2",
        "outputId": "1e1ea82a-d8ce-41a2-c236-057bada23de2"
      },
      "outputs": [
        {
          "output_type": "stream",
          "name": "stdout",
          "text": [
            "Вероятности, что студент окажется факультета A или B или C:\n",
            " P(A)= 0.2424\n",
            " P(B)= 0.2121\n",
            " P(C)= 0.5455\n"
          ]
        }
      ],
      "source": [
        "p_A = p_B = 1/4  # Факультет A, B (равное количество студентов)\n",
        "p_C = p_A + p_B  # Факультет C (столько же студентов, сколько на A и B вместе)\n",
        "# Вероятность сдачи сессии для каждого факультета\n",
        "p_exam_A = 0.8\n",
        "p_exam_B = 0.7\n",
        "p_exam_C = 0.9\n",
        "# Общая средняя вероятность сдачи сессии\n",
        "P_exam = p_A * p_exam_A + p_B * p_exam_B + p_C * p_exam_C\n",
        "\n",
        "# Вероятности учебы на каждом факультете\n",
        "P_A_exam = (p_A * p_exam_A) / P_exam\n",
        "P_B_exam = (p_B * p_exam_B) / P_exam\n",
        "P_C_exam = (p_C * p_exam_C) / P_exam\n",
        "\n",
        "print(f'Вероятности, что студент окажется факультета A или B или C:\\n P(A)= {round(P_A_exam,4)}\\n P(B)= {round(P_B_exam,4)}\\n P(C)= {round(P_C_exam,4)}')"
      ]
    },
    {
      "cell_type": "markdown",
      "source": [
        "5. Устройство состоит из трех деталей. \\\n",
        "Для первой детали вероятность выйти из строя в первый месяц равна 0.1, для второй - 0.2, для третьей - 0.25. \\\n",
        "Какова вероятность того, что в первый месяц выйдут из строя: \\\n",
        "а) все детали \\\n",
        "б) только две детали \\\n",
        "в) хотя бы одна деталь \\\n",
        "г) от одной до двух деталей?"
      ],
      "metadata": {
        "id": "T0wsXQFRXQXm"
      }
    },
    {
      "cell_type": "markdown",
      "source": [
        "вероятности выхода из строя каждой детали:\n",
        "\n",
        "**а) Вероятность того, что все 3 детали выйдут из строя:** \\\n",
        "умножим вероятности деталей, так как БУДЕМ СЧИТАТЬ, что детали выходят из строя **независимо** друг от друга. Для всех трех деталей выйти из строя вероятность равна произведению вероятностей выхода из строя каждой детали: \\\n",
        "**P(все детали)** = P(1) х P(2) х P(3) = 0.1 х 0.2 х 0.25 = **0.005**\n",
        "\n",
        "**б) Вероятность того, что выйдут из строя только 2 детали:** \\\n",
        "Вероятность того, что только 2 детали выйдут из строя: \\\n",
        " Это может произойти 3-мя способами: 2-ая и 3-я деталь сломаются, 1-ая и 2-ая, или 1-ая и 3-я. \\\n",
        "\n",
        " Найдем все эти вероятности: \\\n",
        " P(1 и 2) = P(1 деталь) х P(2 деталь) х (1 - P(третья деталь)) = P(1 и 2) = 0.1 х 0.2 х (1 - 0.25) = 0.015 \\\n",
        "\n",
        " P(1 и 3) = P(первая деталь) х (1 - P(вторая деталь)) х P(третья деталь) = 0.1 х (1 - 0.2) х 0.25 = 0.02 \\\n",
        "\n",
        " P(2 и 3) = (1 - P(первая деталь)) х P(вторая деталь) х P(третья деталь) = (1 - 0.1) * 0.2 * 0.25 = 0.045  \n",
        "\n",
        "Эти события также являются независимыми - будем их складывать: \\\n",
        "**P(только 2 детали)** = P(1 и 2) + P(1 и 3) + P(2 и 3) = 0.015 + 0.02 + 0.045 = **0.08**\n",
        "\n",
        "**в) Вероятность того, что выйдет из строя хотя бы 1 деталь:** \\\n",
        "Это означает, что одна деталь, две детали или все три детали выйдут из строя. \\\n",
        "Для нахождения этой вероятности необходимо вычесть вероятность того, что ни одна деталь не сломается из 1: \\\n",
        "**P(хотя бы 1 деталь)** = 1 - P(ни одна деталь не сломается) = 1 - 0.9 * 0.8 * 0.75 = 1 - 0.54 = **0.46**\n",
        "\n",
        "г) Вероятность того, что выйдут из строя от 1 до 2 деталей:\n",
        "сил нет) \\\n",
        "похоже сложить P(1) + P(2)"
      ],
      "metadata": {
        "id": "nwHvRIpknYrs"
      }
    }
  ]
}