{
  "nbformat": 4,
  "nbformat_minor": 0,
  "metadata": {
    "colab": {
      "provenance": []
    },
    "kernelspec": {
      "name": "python3",
      "display_name": "Python 3"
    },
    "language_info": {
      "name": "python"
    }
  },
  "cells": [
    {
      "cell_type": "markdown",
      "source": [
        "\n",
        "DZ_6_Сравнение долей. Построение доверительного интервала"
      ],
      "metadata": {
        "id": "YMuLWhx-orev"
      }
    },
    {
      "cell_type": "code",
      "execution_count": 1,
      "metadata": {
        "id": "NKNGwjkBoDGj"
      },
      "outputs": [],
      "source": [
        "import numpy as np\n",
        "import scipy.stats as stats"
      ]
    },
    {
      "cell_type": "markdown",
      "source": [
        "#1. Известно, что генеральная совокупность распределена нормально со средним квадратическим отклонением, равным 16. Найти доверительный интервал для оценки математического ожидания a с надежностью 0.95, если выборочная средняя M = 80, а объем выборки n = 256."
      ],
      "metadata": {
        "id": "KM-pNSXxoqAo"
      }
    },
    {
      "cell_type": "markdown",
      "source": [
        "Решение:\n",
        "Запись данных: X̅ = 80; α = (1-0.95)/2 = 0,025 так как тест двухсторонний; n = 256;  µ(x) = -; std = √D = 16"
      ],
      "metadata": {
        "id": "uTxzd2vRtmXD"
      }
    },
    {
      "cell_type": "code",
      "source": [
        "X̅ = 80\n",
        "std = 16\n",
        "n = 256\n",
        "p = 0.95\n",
        "α = 0.025 #α = (1 - 0.95)/2 = 0,025 так как тест двухсторонний\n",
        "z = stats.norm.ppf(α) # в случае, когда std неизвестно, выборка более 30, используется z-распределение\n",
        "res1 = X̅ - 1.96 * std / np.sqrt(n) #найдем 2 значения т.к.это интервал слева и справа от X̅\n",
        "res2 = X̅ + 1.96 * std / np.sqrt(n)\n",
        "print (f'z_tabl = {round(z,2)}, Doveritelniy interval =[{res1}; {res2}]')"
      ],
      "metadata": {
        "colab": {
          "base_uri": "https://localhost:8080/"
        },
        "id": "1LcSNSpetXVu",
        "outputId": "13a14874-62f7-4ab1-9eb3-3d50d869da30"
      },
      "execution_count": 97,
      "outputs": [
        {
          "output_type": "stream",
          "name": "stdout",
          "text": [
            "z_tabl = -1.96, Doveritelniy interval =[78.04; 81.96]\n"
          ]
        }
      ]
    },
    {
      "cell_type": "markdown",
      "source": [
        "#2. В результате 10 независимых измерений некоторой величины X, выполненных с одинаковой точностью, получены опытные данные: 6.9, 6.1, 6.2, 6.8, 7.5, 6.3, 6.4, 6.9, 6.7, 6.1 Предполагая, что результаты измерений подчинены нормальному закону распределения вероятностей, оценить истинное значение величины X при помощи доверительного интервала, покрывающего это значение с доверительной вероятностью 0,95."
      ],
      "metadata": {
        "id": "WWH3xBE0tX9I"
      }
    },
    {
      "cell_type": "code",
      "source": [
        "x_data = np.array([6.9, 6.1, 6.2, 6.8, 7.5, 6.3, 6.4, 6.9, 6.7, 6.1])\n",
        "X̅ = x_data.mean() # X̅ Среднее выборочное\n",
        "α = 0.025 #α = (1 - 0.95)/2 = 0,025 так как тест двухсторонний\n",
        "n = len(x_data)\n",
        "df = n - 1  # длина массива len(x_data) = n выборки, так как это не генеральная совокупность, а выборка, то степень свободы = n-1\n",
        "std = x_data.std (ddof = 1) # std среднее квадратическое отклонение\n",
        "t_critich = stats.t.ppf(α, df)   # в случае, когда std неизвестно, выборка менее 30, используется t-распределение\n",
        "res1 = X̅ - t_critich * std / np.sqrt(n) #найдем 2 значения т.к.это интервал слева и справа от X̅\n",
        "res2 = X̅ + t_critich * std / np.sqrt(n)\n",
        "print(f'Доверительный интервал величины x при n выборки: {n} и ср.кв. отклонением: {round(std,2)} =  [{round(res2, 4)} ; {round(res1, 4)}]')"
      ],
      "metadata": {
        "colab": {
          "base_uri": "https://localhost:8080/"
        },
        "id": "sQRcGa2PtaKk",
        "outputId": "003486eb-11ec-4810-ecc6-1fffbda4dd86"
      },
      "execution_count": 72,
      "outputs": [
        {
          "output_type": "stream",
          "name": "stdout",
          "text": [
            "Доверительный интервал величины x при n выборки: 10 и ср.кв. отклонением: 0.45 =  [6.2675 ; 6.9125]\n"
          ]
        }
      ]
    },
    {
      "cell_type": "markdown",
      "source": [
        "#3. Рост дочерей [175, 167, 154, 174, 178, 148, 160, 167, 169, 170]; Рост матерей  [178, 165, 165, 173, 168, 155, 160, 164, 178, 175] Используя эти данные построить 95% доверительный интервал для разности среднего роста родителей и детей."
      ],
      "metadata": {
        "id": "QaJ4NmzvtauH"
      }
    },
    {
      "cell_type": "code",
      "source": [
        "M_height = np.array([178, 165, 165, 173, 168, 155, 160, 164, 178, 175])\n",
        "D_height = np.array([175, 167, 154, 174, 178, 148, 160, 167, 169, 170])\n",
        "n = len(M_height + D_height)\n",
        "α = 0.025 #α = (1- 0.95)/2 = 0,025 так как тест двухсторонний\n",
        "df = 2 * (n - 1) # * 2 т.к. 2 выборки данных\n",
        "diff = np.mean(M_height - D_height)\n",
        "D_M_height = np.var(M_height, ddof = 1) # дисперсия интервала роста матерей\n",
        "D_D_height = np.var(D_height, ddof = 1) # дисперсия интервала роста дочерей\n",
        "D_avg = np.sqrt((D_M_height/n + D_D_height/n)) #средневзвешенная D, где веса соответствуют размеру каждой выборки\n",
        "std_avg = np.sqrt(D_avg) #std среднеквадратичое отклонение = √ средневзвешенной D\n",
        "t_critich = stats.t.ppf(1-α, df)  # в случае, когда std неизвестно, выборка менее 30, используется t-распределение\n",
        "\n",
        "res1 = diff - t_critich * std_avg\n",
        "res2 = diff + t_critich * std_avg\n",
        "print(f'95% доверительный интервал разности среднего роста матерей и дочерей:  [{round(res1, 4)} ; {round(res2, 4)}]')"
      ],
      "metadata": {
        "colab": {
          "base_uri": "https://localhost:8080/"
        },
        "id": "mWm7IjPuWNZe",
        "outputId": "93076c66-41d9-4e02-cf01-567434409e81"
      },
      "execution_count": 150,
      "outputs": [
        {
          "output_type": "stream",
          "name": "stdout",
          "text": [
            "95% доверительный интервал разности среднего роста матерей и дочерей:  [-2.2426 ; 6.0426]\n"
          ]
        }
      ]
    },
    {
      "cell_type": "code",
      "source": [
        "#при α = 1 - 0.95  - проверка сходится с моим решением,\n",
        "# но у меня α = 0.025 #α = (1- 0.95)/2 = 0,025 - Не понимаю, где у меня ошибка\n",
        "differ = M_height - D_height\n",
        "proverka1 = stats.t.interval(confidence=0.95, df=len(differ)-1, loc=differ.mean(), scale=stats.sem(differ))\n",
        "print(f'Проверка с помощью функции stats.t.interval {proverka1}')"
      ],
      "metadata": {
        "colab": {
          "base_uri": "https://localhost:8080/"
        },
        "id": "I4S_aAY-dNSk",
        "outputId": "6e06ca36-e03e-4ddb-d585-111f65709e17"
      },
      "execution_count": 148,
      "outputs": [
        {
          "output_type": "stream",
          "name": "stdout",
          "text": [
            "Проверка с помощью функции stats.t.interval (-2.6425007062953783, 6.4425007062953785)\n"
          ]
        }
      ]
    },
    {
      "cell_type": "code",
      "source": [
        "#при α = 1 - 0.975  - проверка не сходится с моим решением,\n",
        "differ = M_height - D_height\n",
        "proverka2 = stats.t.interval(confidence=0.975, df=len(differ)-1, loc=differ.mean(), scale=stats.sem(differ))\n",
        "print(f'Проверка с помощью функции stats.t.interval {proverka2}')"
      ],
      "metadata": {
        "colab": {
          "base_uri": "https://localhost:8080/"
        },
        "id": "ZJDJ3z0bfFXI",
        "outputId": "5594e997-7ca9-4227-f85c-941d52ab4821"
      },
      "execution_count": 151,
      "outputs": [
        {
          "output_type": "stream",
          "name": "stdout",
          "text": [
            "Проверка с помощью функции stats.t.interval (-3.4916075616991935, 7.2916075616992)\n"
          ]
        }
      ]
    }
  ]
}