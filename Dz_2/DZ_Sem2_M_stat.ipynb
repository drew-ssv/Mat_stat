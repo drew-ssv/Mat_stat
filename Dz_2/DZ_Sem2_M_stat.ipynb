{
  "nbformat": 4,
  "nbformat_minor": 0,
  "metadata": {
    "colab": {
      "provenance": []
    },
    "kernelspec": {
      "name": "python3",
      "display_name": "Python 3"
    },
    "language_info": {
      "name": "python"
    }
  },
  "cells": [
    {
      "cell_type": "markdown",
      "source": [
        "Dz_Семинар_2"
      ],
      "metadata": {
        "id": "j-BZkyrGzdW3"
      }
    },
    {
      "cell_type": "markdown",
      "source": [
        " Дискретные распределения вероятностей\n",
        "Условие:\n",
        "\n",
        "1. Вероятность того, что стрелок попадет в мишень, выстрелив один раз, равна 0.8. Стрелок выстрелил 100 раз. Найдите вероятность того, что стрелок попадет в цель ровно 85 раз."
      ],
      "metadata": {
        "id": "q4awFuYYzgCD"
      }
    },
    {
      "cell_type": "code",
      "source": [
        "import math\n",
        "Q1 = 'Какова вероятность того, что стрелок попадет в цель ровно 85 раз?'\n",
        "n = 100\n",
        "k = 85\n",
        "p = 0.8\n",
        "q = 1 - p\n",
        "P = (math.comb(n, k) * (p ** k) * (q ** (n - k)))\n",
        "print(f'{Q1} P = {round (P,4)}')"
      ],
      "metadata": {
        "colab": {
          "base_uri": "https://localhost:8080/"
        },
        "id": "g6FdMk83zuxM",
        "outputId": "abd46cbc-31bc-4cf6-c0c1-5d74c33de6ee"
      },
      "execution_count": 12,
      "outputs": [
        {
          "output_type": "stream",
          "name": "stdout",
          "text": [
            "Какова вероятность того, что стрелок попадет в цель ровно 85 раз? P = 0.0481\n"
          ]
        }
      ]
    },
    {
      "cell_type": "markdown",
      "source": [
        "2. Вероятность того, что лампочка перегорит в течение первого дня эксплуатации, равна 0.0004. В жилом комплексе после ремонта в один день включили 5000 новых лампочек. Какова вероятность, что ни одна из них не перегорит в первый день? Какова вероятность, что перегорят ровно две?"
      ],
      "metadata": {
        "id": "_45mfl3bzvRX"
      }
    },
    {
      "cell_type": "code",
      "source": [
        "Q2a = 'Какова вероятность, что ни одна из них не перегорит в первый день?'\n",
        "k = 0  # число наступлений события\n",
        "n = 5000\n",
        "p1 = 0.0004\n",
        "lambda_val = n * p1  # среднее число наступлений события за единицу времени/площади/объема\n",
        "# Вычисление вероятности P(X=k)\n",
        "P = (math.exp(-lambda_val) * lambda_val**k) / math.factorial(k)\n",
        "print(f'{Q2a} P = {round (P,4)}')\n",
        "\n",
        "Q2b = 'Какова вероятность, что перегорят ровно две?'\n",
        "k = 2  # число наступлений события\n",
        "n = 5000\n",
        "p1 = 0.0004\n",
        "lambda_value = n * p1\n",
        "\n",
        "P = (math.exp(-lambda_value) * lambda_value**k) / math.factorial(k)\n",
        "print(f'{Q2b} P = {round (P,4)}')"
      ],
      "metadata": {
        "colab": {
          "base_uri": "https://localhost:8080/"
        },
        "id": "OK_kKwkMzxNA",
        "outputId": "45cbae57-053f-4c54-f01b-20a7e36f324b"
      },
      "execution_count": 13,
      "outputs": [
        {
          "output_type": "stream",
          "name": "stdout",
          "text": [
            "Какова вероятность, что ни одна из них не перегорит в первый день? P = 0.1353\n",
            "Какова вероятность, что перегорят ровно две? P = 0.2707\n"
          ]
        }
      ]
    },
    {
      "cell_type": "markdown",
      "source": [
        "3. Монету подбросили 144 раза. Какова вероятность, что орел выпадет ровно 70 раз?"
      ],
      "metadata": {
        "id": "zg9SwvdAzxrT"
      }
    },
    {
      "cell_type": "code",
      "source": [
        "Q3 = 'Какова вероятность, что орел выпадет ровно 70 раз?'\n",
        "n = 144\n",
        "k = 70\n",
        "p = 1/2\n",
        "q = 1 - p\n",
        "P = (math.comb(n, k) * (p ** k) * (q ** (n - k)))\n",
        "print(f'{Q3} P = {round (P,4)}')"
      ],
      "metadata": {
        "colab": {
          "base_uri": "https://localhost:8080/"
        },
        "id": "ukB3T4qezz-3",
        "outputId": "5fba5c4c-32fb-4c02-e67e-62e69bf4179e"
      },
      "execution_count": 14,
      "outputs": [
        {
          "output_type": "stream",
          "name": "stdout",
          "text": [
            "Какова вероятность, что орел выпадет ровно 70 раз? P = 0.0628\n"
          ]
        }
      ]
    },
    {
      "cell_type": "markdown",
      "source": [
        "4. В первом ящике находится 10 мячей, из которых 7 - белые. Во втором ящике - 11 мячей, из которых 9 белых. Из каждого ящика вытаскивают случайным образом по два мяча. Какова вероятность того, что все мячи белые? Какова вероятность того, что ровно два мяча белые? Какова вероятность того, что хотя бы один мяч белый?"
      ],
      "metadata": {
        "id": "r4kyQBIIz0q0"
      }
    },
    {
      "cell_type": "code",
      "source": [
        "N = 2 # количество забора мячей из ящиков (по 2)\n",
        "N2 = 1 # количество забора мячей из ящиков (по 1)\n",
        "n1 = 10  # количество мячей в первом ящике\n",
        "k1 = 7  # количество белых мячей в первом ящике\n",
        "n2 = 11  # количество мячей во втором ящике\n",
        "k2 = 9  # количество белых мячей во втором ящике\n",
        "\n",
        "\n",
        "# Вычисление вероятностей\n",
        "Q1 = 'Какова вероятность того, что все мячи белые?'\n",
        "P1 = (math.comb(k1, N) / math.comb(n1, N)) * (math.comb(k2, N) / math.comb(n2, N))\n",
        "print(f'{Q1} P1 = {round (P1,4)}')\n",
        "\n",
        "Q2 = 'Какова вероятность того, что ровно два мяча белые?'\n",
        "# ВАР1: Из первого ящика берут 2 белых мяча, а из второго 0 белых\n",
        "# Box1ball2_ из первого ящика вынули два белых мяча\n",
        "# Box2all - из второго ящика вынули только черные мячи\n",
        "\n",
        "# ВАР 2: Из второго ящика берут 2 белых мяча, а из первого 0 белых\n",
        "# Box2ball2_ - из второго ящика вынули два белых мяча\n",
        "# Box1all - из первого ящика вынули только черные мячи\n",
        "\n",
        "# ВАР 3: Из каждого ящика берут по 1 белому мячу\n",
        "# Box1ball1_ - из первого ящика вынули один белый мяч\n",
        "# Box2ball1 - из второго ящика вынули один белый мяч\n",
        "\n",
        "# Решение Box1Ball2_ х Box2All + Box2ball2_ х Box1all + Box1ball1_ х Box2ball1\n",
        "Box1ball1_Box2all = (math.comb(k1, N) / math.comb(n1, N)) * (math.comb(n2 - k2, N) / math.comb(n2, N))\n",
        "Box2ball2_Box1all = (math.comb(n1 - k1, N) / math.comb(n1, N)) * (math.comb(k2, N) / math.comb(n2, N))\n",
        "Box1ball1_Box2ball1 = (math.comb(k1, N2) * math.comb(n1 - k1, N2)) / (math.comb(n1, N)) * (math.comb(k2, N2) * math.comb(n2 - k2, N2)) / (math.comb(n2, N))\n",
        "P31 = Box1ball1_Box2all + Box2ball2_Box1all + Box1ball1_Box2ball1\n",
        "print(f'{Q2} P3 = {round (P31,4)}')\n",
        "\n",
        "Q3 = 'Какова вероятность того, что хотя бы один мяч белый?'\n",
        "PBlack = (math.comb(n1 - k1, N) / math.comb(n1, N)) * (math.comb(n2 - k2, N) / math.comb(n2, N))\n",
        "P3 = 1 - PBlack\n",
        "print(f'{Q3} P3 = {round (P3,4)}')"
      ],
      "metadata": {
        "colab": {
          "base_uri": "https://localhost:8080/"
        },
        "id": "M7d0UzXTz1yr",
        "outputId": "1bc6a65b-a53c-4c2e-fafb-a8266124ab17"
      },
      "execution_count": 47,
      "outputs": [
        {
          "output_type": "stream",
          "name": "stdout",
          "text": [
            "Какова вероятность того, что все мячи белые? P1 = 0.3055\n",
            "Какова вероятность того, что ровно два мяча белые? P3 = 0.2048\n",
            "Какова вероятность того, что хотя бы один мяч белый? P3 = 0.9988\n"
          ]
        }
      ]
    }
  ]
}