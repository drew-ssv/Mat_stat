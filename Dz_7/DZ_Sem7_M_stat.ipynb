{
  "nbformat": 4,
  "nbformat_minor": 0,
  "metadata": {
    "colab": {
      "provenance": []
    },
    "kernelspec": {
      "name": "python3",
      "display_name": "Python 3"
    },
    "language_info": {
      "name": "python"
    }
  },
  "cells": [
    {
      "cell_type": "markdown",
      "source": [
        "DZ_7_Непараметрические тесты"
      ],
      "metadata": {
        "id": "m1yuG5mGh3oE"
      }
    },
    {
      "cell_type": "code",
      "execution_count": null,
      "metadata": {
        "id": "r_C9YDp8hxun"
      },
      "outputs": [],
      "source": [
        "import numpy as np\n",
        "import scipy.stats as stats"
      ]
    },
    {
      "cell_type": "markdown",
      "source": [
        "Задачи № 1-4 решать с помощью функций, задачу №5 вручную \\\n",
        "Выбрать тест и проверить, есть ли различия между выборками:\n",
        "\n",
        "###1. Даны две независимые выборки. Не соблюдается условие нормальности\n",
        "###x1 = [380, 420, 290]\n",
        "###y1 = [140, 360, 200, 900]\n",
        "###Сделайте вывод по результатам, полученным с помощью функции"
      ],
      "metadata": {
        "id": "SrEw7G_4hzZk"
      }
    },
    {
      "cell_type": "code",
      "source": [
        "x1 = np.array([380, 420, 290])\n",
        "y1 = np.array([140, 360, 200, 900])\n",
        "\n",
        "stats.mannwhitneyu(x1, y1) #используем тест Манна-Уитли"
      ],
      "metadata": {
        "colab": {
          "base_uri": "https://localhost:8080/"
        },
        "id": "nCGawGMwiMYd",
        "outputId": "9b56718f-320b-4389-adc2-f7b5d995a5a5"
      },
      "execution_count": null,
      "outputs": [
        {
          "output_type": "execute_result",
          "data": {
            "text/plain": [
              "MannwhitneyuResult(statistic=8.0, pvalue=0.6285714285714286)"
            ]
          },
          "metadata": {},
          "execution_count": 2
        }
      ]
    },
    {
      "cell_type": "markdown",
      "source": [
        "При α = 0.05, pvalue 0.628 > α, остается H0 - нет оснований отвергнуть нулевую гипотезу, выборки близки к  одинаковым"
      ],
      "metadata": {
        "id": "-XsqnlUbj7tt"
      }
    },
    {
      "cell_type": "markdown",
      "source": [
        "###2. Исследовалось влияние препарата на уровень давления пациентов. Сначала измерялось давление до приема препарата, потом через 10 минут и через 30 минут. Есть ли статистически значимые различия?\n",
        "###1е измерение до приема препарата: [150, 160, 165, 145, 155]\n",
        "###2е измерение через 10 минут: [140, 155, 150, 130, 135]\n",
        "###3е измерение через 30 минут: [130, 130, 120, 130, 125]"
      ],
      "metadata": {
        "id": "suG81F17ipaD"
      }
    },
    {
      "cell_type": "code",
      "source": [
        "a1 = np.array([150, 160, 165, 145, 155])\n",
        "a2 = np.array([140, 155, 150, 130, 135])\n",
        "a3 = np.array([130, 130, 120, 130, 125])\n",
        "α = 0.05\n",
        "stats.friedmanchisquare(a1, a2, a3) # используем критерий Фридмана, который проверяет H0 о том, что повторные измерения одних и тех же индивидов имеют одинаковое распределение.\n",
        "#Он часто используется для проверки согласованности измерений, полученных разными способами."
      ],
      "metadata": {
        "colab": {
          "base_uri": "https://localhost:8080/"
        },
        "id": "dg8N2mygi_Je",
        "outputId": "aee9d0dd-f789-4337-9c66-89d5ceb332b8"
      },
      "execution_count": null,
      "outputs": [
        {
          "output_type": "execute_result",
          "data": {
            "text/plain": [
              "FriedmanchisquareResult(statistic=9.578947368421062, pvalue=0.00831683351100441)"
            ]
          },
          "metadata": {},
          "execution_count": 5
        }
      ]
    },
    {
      "cell_type": "markdown",
      "source": [
        "При α = 0.05, pvalue 0.0083 < α, H1 - принимается, есть статистические различия групп."
      ],
      "metadata": {
        "id": "p19_utkJkfFx"
      }
    },
    {
      "cell_type": "markdown",
      "source": [
        "\n",
        "###3. Сравните 1 и 2 е измерения, предполагая, что 3го измерения через 30 минут не было."
      ],
      "metadata": {
        "id": "WcStmgLjisCd"
      }
    },
    {
      "cell_type": "code",
      "source": [
        "a1 = np.array([150, 160, 165, 145, 155])\n",
        "a2 = np.array([140, 155, 150, 130, 135])\n",
        "α = 0.05\n",
        "stats.wilcoxon(a1, a2)\n",
        "# используем Т-критерий Вилкоксона Обязательным условием для применения методики Вилкоксона является наличие двух рядов измерений. Если выборок больше, то целесообразно отказаться от Т-критерия в пользу критерия Фридмана.\n",
        "#Т-критерий Вилкоксона помогает установить наличие изменений, их направление и выраженность интенсивность. С его помощью устанавливают, в каком направлении доминируют сдвиги (например, в положительную или отрицательную сторону)."
      ],
      "metadata": {
        "colab": {
          "base_uri": "https://localhost:8080/"
        },
        "id": "oXtuTUSUi_v6",
        "outputId": "0c17b7b3-d0e4-4da0-d647-d0f7267812f6"
      },
      "execution_count": null,
      "outputs": [
        {
          "output_type": "execute_result",
          "data": {
            "text/plain": [
              "WilcoxonResult(statistic=0.0, pvalue=0.0625)"
            ]
          },
          "metadata": {},
          "execution_count": 6
        }
      ]
    },
    {
      "cell_type": "markdown",
      "source": [
        "При α = 0.05, pvalue 0.0625 > α, остается H0 - нет оснований отвергнуть нулевую гипотезу, без 3 измерения препарат неэффективен"
      ],
      "metadata": {
        "id": "jY3YFRdemzlE"
      }
    },
    {
      "cell_type": "markdown",
      "source": [
        "###4. Даны 3 группы учеников плавания.\n",
        "###В 1 группе время на дистанцию 50 м составляют: [56, 60, 62, 55, 71, 67, 59, 58, 64, 67]\n",
        "###Вторая группа : [57, 58, 69, 48, 72, 70, 68, 71, 50, 53]\n",
        "###Третья группа: [57, 67, 49, 48, 47, 55, 66, 51, 54]\n",
        "###Сделайте вывод по результатам, полученным с помощью функции"
      ],
      "metadata": {
        "id": "OYuykoBMi7SK"
      }
    },
    {
      "cell_type": "code",
      "source": [
        "a1 = np.array([56, 60, 62, 55, 71, 67, 59, 58, 64, 67])\n",
        "a2 = np.array([57, 58, 69, 48, 72, 70, 68, 71, 50, 53])\n",
        "a3 = np.array([57, 67, 49, 48, 47, 55, 66, 51, 54])\n",
        "α = 0.05\n",
        "stats.kruskal(a1,a2,a3) #используем критерий Крускала-Уоллиса – критерий, используемый для сравнения 3-ех и более независимых выборок по количественному или порядковому признаку, когда нарушается предположение о нормальностии\n",
        "# и нужно узанть о наличии статистически значимой разницы между медианами групп."
      ],
      "metadata": {
        "id": "RhLCpEJljAb2",
        "colab": {
          "base_uri": "https://localhost:8080/"
        },
        "outputId": "0e93a981-17f0-4c5c-e595-3cf82ea473ca"
      },
      "execution_count": null,
      "outputs": [
        {
          "output_type": "execute_result",
          "data": {
            "text/plain": [
              "KruskalResult(statistic=5.465564058257224, pvalue=0.0650380998590494)"
            ]
          },
          "metadata": {},
          "execution_count": 5
        }
      ]
    },
    {
      "cell_type": "markdown",
      "source": [
        "При α = 0.05, pvalue 0.0650 > α, остается H0 - нет оснований отвергнуть нулевую гипотезу, группы со временем пловцов статистически равны"
      ],
      "metadata": {
        "id": "HDm9R-c978hq"
      }
    },
    {
      "cell_type": "markdown",
      "source": [
        "###5. Заявляется, что партия изготавливается со средним арифм. 2,5 см.\n",
        "###Проверить данную гипотезу, если известно, что размеры изделий подчинены нормальному закону распределения.\n",
        "### Объем выборки 10, уровень статистической значимости 5%\n",
        "[2.51, 2.35, 2.74, 2.56, 2.40, 2.36, 2.65, 2.7, 2.67, 2.34]"
      ],
      "metadata": {
        "id": "JkQEJh-0jBD7"
      }
    },
    {
      "cell_type": "code",
      "source": [
        "X_arr = np.array([2.51, 2.35, 2.74, 2.56, 2.40, 2.36, 2.65, 2.7, 2.67, 2.34])\n",
        "n = len(X_arr) # =10\n",
        "µ = 2.5 #µ(x) среднее арифметическое ген/совокупности\n",
        "α = 0.05 / 2\n",
        "df = n - 1 # =9\n",
        "#Запись гипотез: H0 = X̅ = µ(x) и H1 = X̅ > µ(x)\n",
        "#к вычислению X̅ = ?; std = √D = ?\n",
        "X̅  = X_arr.mean()\n",
        "std = X_arr.std(ddof = 1)\n",
        "print (f'X̅ = {X̅} , std = {std}')"
      ],
      "metadata": {
        "id": "_thOeQmajFqf",
        "colab": {
          "base_uri": "https://localhost:8080/"
        },
        "outputId": "cf31eab1-87ce-4a33-8560-9f9f9eb7c0d5"
      },
      "execution_count": 36,
      "outputs": [
        {
          "output_type": "stream",
          "name": "stdout",
          "text": [
            "X̅ = 2.5279999999999996 , std = 0.1572542173961923\n"
          ]
        }
      ]
    },
    {
      "cell_type": "code",
      "source": [
        "#в случае, когда std неизвестно, выборка менее 30, используется t-распределение\n",
        "t_raschetn = (X̅ - μ) / (std / n**(1/2))\n",
        "print (f't_raschetn = {t_raschetn}')"
      ],
      "metadata": {
        "colab": {
          "base_uri": "https://localhost:8080/"
        },
        "id": "D3jqDFlzCOIT",
        "outputId": "abb05dcb-cf02-4075-cdbe-94cacdb9b992"
      },
      "execution_count": 37,
      "outputs": [
        {
          "output_type": "stream",
          "name": "stdout",
          "text": [
            "t_raschetn = 0.5630613661802959\n"
          ]
        }
      ]
    },
    {
      "cell_type": "code",
      "source": [
        "#Ниже подгрузим t_critich:\n",
        "t_critich = stats.t.ppf(1-α, df)\n",
        "print (f't_critich = {t_critich}')"
      ],
      "metadata": {
        "colab": {
          "base_uri": "https://localhost:8080/"
        },
        "id": "7Y8nZjeFHMD8",
        "outputId": "7c152abc-5579-415b-e336-c29859ee8419"
      },
      "execution_count": 39,
      "outputs": [
        {
          "output_type": "stream",
          "name": "stdout",
          "text": [
            "t_critich = 2.2621571627409915\n"
          ]
        }
      ]
    },
    {
      "cell_type": "code",
      "source": [
        "if t_critich > t_raschetn:\n",
        "    print (f'Ответ: При α = {α}, t_critich > t_raschetn, остается H0 - нет оснований отвергнуть нулевую гипотезу, партия изготавливается со средним арифм. {µ}см.')\n",
        "else:\n",
        "    print (f'Ответ: При α = {α}, t_critich < t_raschetn | t_critich = t_raschetn, принимаем H1 - партия изготавливается со средним арифм. более чем {µ}см.')"
      ],
      "metadata": {
        "colab": {
          "base_uri": "https://localhost:8080/"
        },
        "id": "kDZkp5rdI6kC",
        "outputId": "f3f8b5cc-c7f3-443e-8673-ce3b8591aeb2"
      },
      "execution_count": 44,
      "outputs": [
        {
          "output_type": "stream",
          "name": "stdout",
          "text": [
            "Ответ: При α = 0.025, t_critich > t_raschetn, остается H0 - нет оснований отвергнуть нулевую гипотезу, партия изготавливается со средним арифм. 2.5см.\n"
          ]
        }
      ]
    }
  ]
}